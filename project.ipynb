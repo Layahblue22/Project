{
 "cells": [
  {
   "cell_type": "code",
   "execution_count": 1,
   "id": "58a86944",
   "metadata": {
    "_cell_guid": "b1076dfc-b9ad-4769-8c92-a6c4dae69d19",
    "_uuid": "8f2839f25d086af736a60e9eeb907d3b93b6e0e5",
    "execution": {
     "iopub.execute_input": "2022-12-07T22:25:41.779377Z",
     "iopub.status.busy": "2022-12-07T22:25:41.778187Z",
     "iopub.status.idle": "2022-12-07T22:25:44.507749Z",
     "shell.execute_reply": "2022-12-07T22:25:44.505502Z"
    },
    "papermill": {
     "duration": 2.745533,
     "end_time": "2022-12-07T22:25:44.511591",
     "exception": false,
     "start_time": "2022-12-07T22:25:41.766058",
     "status": "completed"
    },
    "tags": []
   },
   "outputs": [
    {
     "name": "stdout",
     "output_type": "stream",
     "text": [
      "/kaggle/input/all-products-available-on-sephora-website/sephora_website_dataset.csv\n"
     ]
    }
   ],
   "source": [
    "# This Python 3 environment comes with many helpful analytics libraries installed\n",
    "# It is defined by the kaggle/python Docker image: https://github.com/kaggle/docker-python\n",
    "# For example, here's several helpful packages to load\n",
    "\n",
    "import numpy as np # linear algebra\n",
    "import pandas as pd # data processing, CSV file I/O (e.g. pd.read_csv)\n",
    "import seaborn as sns\n",
    "import plotly.express as px\n",
    "import re\n",
    "# import nltk \n",
    "# nltk.download('omw-1.4')\n",
    "# from nltk.corpus import stopwords\n",
    "# from nltk.stem.wordnet import WordNetLemmatizer\n",
    "\n",
    "\n",
    "\n",
    "# Input data files are available in the read-only \"../input/\" directory\n",
    "# For example, running this (by clicking run or pressing Shift+Enter) will list all files under the input directory\n",
    "\n",
    "import os\n",
    "for dirname, _, filenames in os.walk('/kaggle/input'):\n",
    "    for filename in filenames:\n",
    "        print(os.path.join(dirname, filename))\n",
    "\n",
    "# You can write up to 20GB to the current directory (/kaggle/working/) that gets preserved as output when you create a version using \"Save & Run All\" \n",
    "# You can also write temporary files to /kaggle/temp/, but they won't be saved outside of the current session"
   ]
  },
  {
   "cell_type": "code",
   "execution_count": 2,
   "id": "f66802a0",
   "metadata": {
    "execution": {
     "iopub.execute_input": "2022-12-07T22:25:44.530304Z",
     "iopub.status.busy": "2022-12-07T22:25:44.529477Z",
     "iopub.status.idle": "2022-12-07T22:25:45.562797Z",
     "shell.execute_reply": "2022-12-07T22:25:45.560793Z"
    },
    "papermill": {
     "duration": 1.046772,
     "end_time": "2022-12-07T22:25:45.565837",
     "exception": false,
     "start_time": "2022-12-07T22:25:44.519065",
     "status": "completed"
    },
    "tags": []
   },
   "outputs": [],
   "source": [
    "import nltk"
   ]
  },
  {
   "cell_type": "code",
   "execution_count": 3,
   "id": "92b7c14c",
   "metadata": {
    "execution": {
     "iopub.execute_input": "2022-12-07T22:25:45.584155Z",
     "iopub.status.busy": "2022-12-07T22:25:45.583620Z",
     "iopub.status.idle": "2022-12-07T22:25:46.341845Z",
     "shell.execute_reply": "2022-12-07T22:25:46.340269Z"
    },
    "papermill": {
     "duration": 0.771447,
     "end_time": "2022-12-07T22:25:46.345024",
     "exception": false,
     "start_time": "2022-12-07T22:25:45.573577",
     "status": "completed"
    },
    "tags": []
   },
   "outputs": [
    {
     "data": {
      "text/html": [
       "<div>\n",
       "<style scoped>\n",
       "    .dataframe tbody tr th:only-of-type {\n",
       "        vertical-align: middle;\n",
       "    }\n",
       "\n",
       "    .dataframe tbody tr th {\n",
       "        vertical-align: top;\n",
       "    }\n",
       "\n",
       "    .dataframe thead th {\n",
       "        text-align: right;\n",
       "    }\n",
       "</style>\n",
       "<table border=\"1\" class=\"dataframe\">\n",
       "  <thead>\n",
       "    <tr style=\"text-align: right;\">\n",
       "      <th></th>\n",
       "      <th>id</th>\n",
       "      <th>brand</th>\n",
       "      <th>category</th>\n",
       "      <th>name</th>\n",
       "      <th>size</th>\n",
       "      <th>rating</th>\n",
       "      <th>number_of_reviews</th>\n",
       "      <th>love</th>\n",
       "      <th>price</th>\n",
       "      <th>value_price</th>\n",
       "      <th>...</th>\n",
       "      <th>MarketingFlags</th>\n",
       "      <th>MarketingFlags_content</th>\n",
       "      <th>options</th>\n",
       "      <th>details</th>\n",
       "      <th>how_to_use</th>\n",
       "      <th>ingredients</th>\n",
       "      <th>online_only</th>\n",
       "      <th>exclusive</th>\n",
       "      <th>limited_edition</th>\n",
       "      <th>limited_time_offer</th>\n",
       "    </tr>\n",
       "  </thead>\n",
       "  <tbody>\n",
       "    <tr>\n",
       "      <th>0</th>\n",
       "      <td>2218774</td>\n",
       "      <td>Acqua Di Parma</td>\n",
       "      <td>Fragrance</td>\n",
       "      <td>Blu Mediterraneo MINIATURE Set</td>\n",
       "      <td>5 x 0.16oz/5mL</td>\n",
       "      <td>4.0</td>\n",
       "      <td>4</td>\n",
       "      <td>3002</td>\n",
       "      <td>66.0</td>\n",
       "      <td>75.0</td>\n",
       "      <td>...</td>\n",
       "      <td>True</td>\n",
       "      <td>online only</td>\n",
       "      <td>no options</td>\n",
       "      <td>This enchanting set comes in a specially handc...</td>\n",
       "      <td>Suggested Usage:-Fragrance is intensified by t...</td>\n",
       "      <td>Arancia di Capri Eau de Toilette: Alcohol Dena...</td>\n",
       "      <td>1</td>\n",
       "      <td>0</td>\n",
       "      <td>0</td>\n",
       "      <td>0</td>\n",
       "    </tr>\n",
       "    <tr>\n",
       "      <th>1</th>\n",
       "      <td>2044816</td>\n",
       "      <td>Acqua Di Parma</td>\n",
       "      <td>Cologne</td>\n",
       "      <td>Colonia</td>\n",
       "      <td>0.7 oz/ 20 mL</td>\n",
       "      <td>4.5</td>\n",
       "      <td>76</td>\n",
       "      <td>2700</td>\n",
       "      <td>66.0</td>\n",
       "      <td>66.0</td>\n",
       "      <td>...</td>\n",
       "      <td>True</td>\n",
       "      <td>online only</td>\n",
       "      <td>- 0.7 oz/ 20 mL  Spray  - 1.7 oz/ 50 mL Eau d...</td>\n",
       "      <td>An elegant timeless scent filled with a fresh-...</td>\n",
       "      <td>no instructions</td>\n",
       "      <td>unknown</td>\n",
       "      <td>1</td>\n",
       "      <td>0</td>\n",
       "      <td>0</td>\n",
       "      <td>0</td>\n",
       "    </tr>\n",
       "    <tr>\n",
       "      <th>2</th>\n",
       "      <td>1417567</td>\n",
       "      <td>Acqua Di Parma</td>\n",
       "      <td>Perfume</td>\n",
       "      <td>Arancia di Capri</td>\n",
       "      <td>5 oz/ 148 mL</td>\n",
       "      <td>4.5</td>\n",
       "      <td>26</td>\n",
       "      <td>2600</td>\n",
       "      <td>180.0</td>\n",
       "      <td>180.0</td>\n",
       "      <td>...</td>\n",
       "      <td>True</td>\n",
       "      <td>online only</td>\n",
       "      <td>- 1oz/30mL Eau de Toilette  - 2.5 oz/ 74 mL E...</td>\n",
       "      <td>Fragrance Family: Fresh Scent Type: Fresh Citr...</td>\n",
       "      <td>no instructions</td>\n",
       "      <td>Alcohol Denat.- Water- Fragrance- Limonene- Li...</td>\n",
       "      <td>1</td>\n",
       "      <td>0</td>\n",
       "      <td>0</td>\n",
       "      <td>0</td>\n",
       "    </tr>\n",
       "    <tr>\n",
       "      <th>3</th>\n",
       "      <td>1417617</td>\n",
       "      <td>Acqua Di Parma</td>\n",
       "      <td>Perfume</td>\n",
       "      <td>Mirto di Panarea</td>\n",
       "      <td>2.5 oz/ 74 mL</td>\n",
       "      <td>4.5</td>\n",
       "      <td>23</td>\n",
       "      <td>2900</td>\n",
       "      <td>120.0</td>\n",
       "      <td>120.0</td>\n",
       "      <td>...</td>\n",
       "      <td>True</td>\n",
       "      <td>online only</td>\n",
       "      <td>- 1 oz/ 30 mL Eau de Toilette Spray - 2.5 oz/...</td>\n",
       "      <td>Panarea near Sicily is an an island suspended ...</td>\n",
       "      <td>no instructions</td>\n",
       "      <td>unknown</td>\n",
       "      <td>1</td>\n",
       "      <td>0</td>\n",
       "      <td>0</td>\n",
       "      <td>0</td>\n",
       "    </tr>\n",
       "    <tr>\n",
       "      <th>4</th>\n",
       "      <td>2218766</td>\n",
       "      <td>Acqua Di Parma</td>\n",
       "      <td>Fragrance</td>\n",
       "      <td>Colonia Miniature Set</td>\n",
       "      <td>5 x 0.16oz/5mL</td>\n",
       "      <td>3.5</td>\n",
       "      <td>2</td>\n",
       "      <td>943</td>\n",
       "      <td>72.0</td>\n",
       "      <td>80.0</td>\n",
       "      <td>...</td>\n",
       "      <td>True</td>\n",
       "      <td>online only</td>\n",
       "      <td>no options</td>\n",
       "      <td>The Colonia Miniature Set comes in an iconic A...</td>\n",
       "      <td>Suggested Usage:-Fragrance is intensified by t...</td>\n",
       "      <td>Colonia: Alcohol Denat.- Water- Fragrance- Lim...</td>\n",
       "      <td>1</td>\n",
       "      <td>0</td>\n",
       "      <td>0</td>\n",
       "      <td>0</td>\n",
       "    </tr>\n",
       "  </tbody>\n",
       "</table>\n",
       "<p>5 rows × 21 columns</p>\n",
       "</div>"
      ],
      "text/plain": [
       "        id           brand   category                            name  \\\n",
       "0  2218774  Acqua Di Parma  Fragrance  Blu Mediterraneo MINIATURE Set   \n",
       "1  2044816  Acqua Di Parma    Cologne                         Colonia   \n",
       "2  1417567  Acqua Di Parma    Perfume                Arancia di Capri   \n",
       "3  1417617  Acqua Di Parma    Perfume                Mirto di Panarea   \n",
       "4  2218766  Acqua Di Parma  Fragrance           Colonia Miniature Set   \n",
       "\n",
       "             size  rating  number_of_reviews  love  price  value_price  ...  \\\n",
       "0  5 x 0.16oz/5mL     4.0                  4  3002   66.0         75.0  ...   \n",
       "1   0.7 oz/ 20 mL     4.5                 76  2700   66.0         66.0  ...   \n",
       "2    5 oz/ 148 mL     4.5                 26  2600  180.0        180.0  ...   \n",
       "3   2.5 oz/ 74 mL     4.5                 23  2900  120.0        120.0  ...   \n",
       "4  5 x 0.16oz/5mL     3.5                  2   943   72.0         80.0  ...   \n",
       "\n",
       "  MarketingFlags  MarketingFlags_content  \\\n",
       "0           True             online only   \n",
       "1           True             online only   \n",
       "2           True             online only   \n",
       "3           True             online only   \n",
       "4           True             online only   \n",
       "\n",
       "                                             options  \\\n",
       "0                                         no options   \n",
       "1   - 0.7 oz/ 20 mL  Spray  - 1.7 oz/ 50 mL Eau d...   \n",
       "2   - 1oz/30mL Eau de Toilette  - 2.5 oz/ 74 mL E...   \n",
       "3   - 1 oz/ 30 mL Eau de Toilette Spray - 2.5 oz/...   \n",
       "4                                         no options   \n",
       "\n",
       "                                             details  \\\n",
       "0  This enchanting set comes in a specially handc...   \n",
       "1  An elegant timeless scent filled with a fresh-...   \n",
       "2  Fragrance Family: Fresh Scent Type: Fresh Citr...   \n",
       "3  Panarea near Sicily is an an island suspended ...   \n",
       "4  The Colonia Miniature Set comes in an iconic A...   \n",
       "\n",
       "                                          how_to_use  \\\n",
       "0  Suggested Usage:-Fragrance is intensified by t...   \n",
       "1                                    no instructions   \n",
       "2                                    no instructions   \n",
       "3                                    no instructions   \n",
       "4  Suggested Usage:-Fragrance is intensified by t...   \n",
       "\n",
       "                                         ingredients online_only  exclusive  \\\n",
       "0  Arancia di Capri Eau de Toilette: Alcohol Dena...           1          0   \n",
       "1                                            unknown           1          0   \n",
       "2  Alcohol Denat.- Water- Fragrance- Limonene- Li...           1          0   \n",
       "3                                            unknown           1          0   \n",
       "4  Colonia: Alcohol Denat.- Water- Fragrance- Lim...           1          0   \n",
       "\n",
       "   limited_edition  limited_time_offer  \n",
       "0                0                   0  \n",
       "1                0                   0  \n",
       "2                0                   0  \n",
       "3                0                   0  \n",
       "4                0                   0  \n",
       "\n",
       "[5 rows x 21 columns]"
      ]
     },
     "execution_count": 3,
     "metadata": {},
     "output_type": "execute_result"
    }
   ],
   "source": [
    "beauty_products = pd.read_csv('../input/all-products-available-on-sephora-website/sephora_website_dataset.csv')\n",
    "beauty_products.head()"
   ]
  },
  {
   "cell_type": "markdown",
   "id": "d4123a18",
   "metadata": {
    "papermill": {
     "duration": 0.007444,
     "end_time": "2022-12-07T22:25:46.361014",
     "exception": false,
     "start_time": "2022-12-07T22:25:46.353570",
     "status": "completed"
    },
    "tags": []
   },
   "source": [
    "## There are a lot of categories so I want to group them into Skin care, hair car, makeup and body."
   ]
  },
  {
   "cell_type": "code",
   "execution_count": 4,
   "id": "3d394107",
   "metadata": {
    "execution": {
     "iopub.execute_input": "2022-12-07T22:25:46.379464Z",
     "iopub.status.busy": "2022-12-07T22:25:46.377744Z",
     "iopub.status.idle": "2022-12-07T22:25:46.385824Z",
     "shell.execute_reply": "2022-12-07T22:25:46.384234Z"
    },
    "papermill": {
     "duration": 0.02177,
     "end_time": "2022-12-07T22:25:46.390100",
     "exception": false,
     "start_time": "2022-12-07T22:25:46.368330",
     "status": "completed"
    },
    "tags": []
   },
   "outputs": [],
   "source": [
    "hair_care=['Hair Styling Products','Shampoo',\n",
    "           'Scalp & Hair Treatments','Hair Masks',\n",
    "           'Hair','Hair Accessories,Hair Oil',\n",
    "           'Hair Spray','Hair Straighteners & Flat Irons',\n",
    "           'Hair Primers,Hair Brushes & Combs,Hair Dryers' ,\n",
    "            'Hair Products','Hair Removal','Shampoo & Conditioner',\n",
    "           'Hair Removal & Shaving','Hair Thinning & Hair Loss',\n",
    "           'High Tech Tools','Hair Styling & Treatments','Curls & Coils']"
   ]
  },
  {
   "cell_type": "code",
   "execution_count": 5,
   "id": "1409961d",
   "metadata": {
    "execution": {
     "iopub.execute_input": "2022-12-07T22:25:46.407838Z",
     "iopub.status.busy": "2022-12-07T22:25:46.407392Z",
     "iopub.status.idle": "2022-12-07T22:25:46.415530Z",
     "shell.execute_reply": "2022-12-07T22:25:46.414089Z"
    },
    "papermill": {
     "duration": 0.020831,
     "end_time": "2022-12-07T22:25:46.418559",
     "exception": false,
     "start_time": "2022-12-07T22:25:46.397728",
     "status": "completed"
    },
    "tags": []
   },
   "outputs": [],
   "source": [
    "makeup_products=['Eye Palletts','Lipstick','Face Brushes','Mascara','Eyeliner',\n",
    "                 'Setting Spray & Powder','Makeup','Concealer',\n",
    "                 'Eyebrow','Eye Brushes','Lip Gloss','Blush','Bronzer','Makeup Remover',\n",
    "                'Powder Brush','Lid Shadow Brush','Lip Brushes','Blotting Papers',\n",
    "                 'Eyelash Curlers','BB & CC Cream']"
   ]
  },
  {
   "cell_type": "code",
   "execution_count": 6,
   "id": "3fbb3cdc",
   "metadata": {
    "execution": {
     "iopub.execute_input": "2022-12-07T22:25:46.435514Z",
     "iopub.status.busy": "2022-12-07T22:25:46.435070Z",
     "iopub.status.idle": "2022-12-07T22:25:46.442544Z",
     "shell.execute_reply": "2022-12-07T22:25:46.441113Z"
    },
    "papermill": {
     "duration": 0.018903,
     "end_time": "2022-12-07T22:25:46.445251",
     "exception": false,
     "start_time": "2022-12-07T22:25:46.426348",
     "status": "completed"
    },
    "tags": []
   },
   "outputs": [],
   "source": [
    "skin_care=[\"Face\",\"Facial\",\"Moisturizer\",\"aging\",\"Toners\",\"Sheet\",\"Acne\",\n",
    "           \"Moisturizers\",\"Face Wash & Cleansers\",\"Face Serums\",\"Eye Creams & Treatments\",\n",
    "          \"Lotions & Oils\",\"Lip Balm & Treatment\",\"Face Sunscreen\",\n",
    "           \"Exfoliators\",\"Scrub & Exfoliants\",\"Lip Sunscreen\",\"Skincare Sets\",\n",
    "           \"Blemish & Acne Treatments\",\"Sheet Masks\",\"Moisturizer & Treatments\",\n",
    "          \"For Face\"]"
   ]
  },
  {
   "cell_type": "code",
   "execution_count": 7,
   "id": "345fa2b7",
   "metadata": {
    "execution": {
     "iopub.execute_input": "2022-12-07T22:25:46.464517Z",
     "iopub.status.busy": "2022-12-07T22:25:46.464056Z",
     "iopub.status.idle": "2022-12-07T22:25:46.470512Z",
     "shell.execute_reply": "2022-12-07T22:25:46.469038Z"
    },
    "papermill": {
     "duration": 0.020457,
     "end_time": "2022-12-07T22:25:46.473646",
     "exception": false,
     "start_time": "2022-12-07T22:25:46.453189",
     "status": "completed"
    },
    "tags": []
   },
   "outputs": [],
   "source": [
    "body=['Perfume','Rollerballs & Travel Size','Perfume Gift Sets','Beauty Supplements',\n",
    "      'Body Lotions & Body Oils','Mists & Essences','Bath & Shower','Body Wash & Shower Gel',\n",
    "      'Body Sprays & Deodorant','Tweezers & Eyebrow Tools','Self Tanners','Shaving']"
   ]
  },
  {
   "cell_type": "code",
   "execution_count": 8,
   "id": "cd414b4c",
   "metadata": {
    "execution": {
     "iopub.execute_input": "2022-12-07T22:25:46.491663Z",
     "iopub.status.busy": "2022-12-07T22:25:46.491048Z",
     "iopub.status.idle": "2022-12-07T22:25:46.512511Z",
     "shell.execute_reply": "2022-12-07T22:25:46.511123Z"
    },
    "papermill": {
     "duration": 0.032999,
     "end_time": "2022-12-07T22:25:46.515231",
     "exception": false,
     "start_time": "2022-12-07T22:25:46.482232",
     "status": "completed"
    },
    "tags": []
   },
   "outputs": [
    {
     "data": {
      "text/plain": [
       "Perfume                            665\n",
       "Moisturizers                       451\n",
       "Face Serums                        384\n",
       "Value & Gift Sets                  378\n",
       "Face Wash & Cleansers              247\n",
       "Face Masks                         230\n",
       "Rollerballs & Travel Size          228\n",
       "Hair Styling Products              224\n",
       "Eye Palettes                       202\n",
       "Lipstick                           191\n",
       "Eye Creams & Treatments            191\n",
       "Shampoo                            186\n",
       "Face Brushes                       183\n",
       "Highlighter                        169\n",
       "Foundation                         163\n",
       "Cologne                            158\n",
       "Mini Size                          154\n",
       "Mascara                            154\n",
       "Conditioner                        147\n",
       "Candles & Home Scents              144\n",
       "Face Primer                        144\n",
       "Perfume Gift Sets                  136\n",
       "Eyeliner                           126\n",
       "Beauty Supplements                 118\n",
       "Setting Spray & Powder             116\n",
       "Body Lotions & Body Oils           113\n",
       "Makeup                             109\n",
       "Eyebrow                            107\n",
       "Concealer                          100\n",
       "Eye Brushes                        100\n",
       "Lotions & Oils                      95\n",
       "Toners                              87\n",
       "Face Oils                           84\n",
       "Lip Balm & Treatment                83\n",
       "Mists & Essences                    82\n",
       "Scalp & Hair Treatments             82\n",
       "Hair Masks                          80\n",
       "Lip Gloss                           79\n",
       "Eyeshadow                           78\n",
       "Lip Balms & Treatments              78\n",
       "Face Sunscreen                      76\n",
       "Hair                                73\n",
       "Blush                               67\n",
       "Hair Accessories                    57\n",
       "Nail                                57\n",
       "Sheet Masks                         56\n",
       "Bronzer                             55\n",
       "Facial Peels                        55\n",
       "Bath & Shower                       52\n",
       "False Eyelashes                     52\n",
       "Skincare                            48\n",
       "Body Wash & Shower Gel              48\n",
       "Dry Shampoo                         47\n",
       "Exfoliators                         45\n",
       "Facial Cleansing Brushes            44\n",
       "Face Sets                           44\n",
       "Hair Oil                            44\n",
       "For Body                            39\n",
       "Sponges & Applicators               38\n",
       "Makeup Removers                     37\n",
       "Anti-Aging                          37\n",
       "Blemish & Acne Treatments           35\n",
       "Candles                             34\n",
       "Curling Irons                       33\n",
       "Body Mist & Hair Mist               32\n",
       "Moisturizer & Treatments            31\n",
       "Night Creams                        31\n",
       "Hair Spray                          30\n",
       "Eye Primer                          30\n",
       "Cheek Palettes                      30\n",
       "Eye Sets                            29\n",
       "Hair Straighteners & Flat Irons     29\n",
       "Lip Liner                           29\n",
       "Leave-In Conditioner                29\n",
       "Hair Primers                        29\n",
       "Hair Brushes & Combs                28\n",
       "Facial Rollers                      27\n",
       "Hair Dryers                         26\n",
       "Hand Cream & Foot Cream             26\n",
       "Lip Sets                            26\n",
       "Brush Cleaners                      26\n",
       "Shaving                             25\n",
       "Makeup Palettes                     25\n",
       "Holistic Wellness                   23\n",
       "Face Wipes                          22\n",
       "BB & CC Cream                       22\n",
       "Eye Masks                           21\n",
       "Scrub & Exfoliants                  21\n",
       "Brush Sets                          21\n",
       "Fragrance                           20\n",
       "Body Sprays & Deodorant             20\n",
       "Teeth Whitening                     19\n",
       "For Face                            19\n",
       "Body Sunscreen                      18\n",
       "Tinted Moisturizer                  18\n",
       "Lip Stain                           18\n",
       "Face Wash                           18\n",
       "Contour                             18\n",
       "Deodorant & Antiperspirant          17\n",
       "no category                         16\n",
       "Makeup Bags & Travel Cases          15\n",
       "Skincare Sets                       15\n",
       "Makeup & Travel Cases               15\n",
       "Aftershave                          13\n",
       "Eyelash Curlers                     13\n",
       "Cellulite & Stretch Marks           13\n",
       "Cologne Gift Sets                   12\n",
       "Diffusers                           12\n",
       "Liquid Lipstick                     12\n",
       "Tweezers & Eyebrow Tools            12\n",
       "Self Tanners                        12\n",
       "Color Care                          11\n",
       "Decollete & Neck Creams             11\n",
       "BB & CC Creams                      11\n",
       "Color Correct                       10\n",
       "Bath & Body                          9\n",
       "Mirrors & Sharpeners                 9\n",
       "Eye Cream                            9\n",
       "Body Products                        8\n",
       "Blotting Papers                      7\n",
       "Bath Soaks & Bubble Bath             6\n",
       "Hair Products                        6\n",
       "Lip Brushes                          5\n",
       "Hair Removal                         4\n",
       "Shampoo & Conditioner                4\n",
       "Lip Plumper                          3\n",
       "Sunscreen                            3\n",
       "Lip Sunscreen                        2\n",
       "After Sun Care                       2\n",
       "Deodorant for Men                    2\n",
       "Hair Removal & Shaving               2\n",
       "Accessories                          1\n",
       "Lip Treatments                       1\n",
       "Powder Brush                         1\n",
       "Body Moisturizers                    1\n",
       "Cleansing Brushes                    1\n",
       "Hair Thinning & Hair Loss            1\n",
       "Spa Tools                            1\n",
       "Wellness                             1\n",
       "High Tech Tools                      1\n",
       "Hair Styling & Treatments            1\n",
       "Curls & Coils                        1\n",
       "Lid Shadow Brush                     1\n",
       "Name: category, dtype: int64"
      ]
     },
     "execution_count": 8,
     "metadata": {},
     "output_type": "execute_result"
    }
   ],
   "source": [
    "pd.set_option('display.max_rows', None)\n",
    "beauty_products.category.value_counts(dropna=False)"
   ]
  },
  {
   "cell_type": "code",
   "execution_count": 9,
   "id": "3235d8e9",
   "metadata": {
    "execution": {
     "iopub.execute_input": "2022-12-07T22:25:46.533249Z",
     "iopub.status.busy": "2022-12-07T22:25:46.532789Z",
     "iopub.status.idle": "2022-12-07T22:25:46.550894Z",
     "shell.execute_reply": "2022-12-07T22:25:46.549070Z"
    },
    "papermill": {
     "duration": 0.030182,
     "end_time": "2022-12-07T22:25:46.554079",
     "exception": false,
     "start_time": "2022-12-07T22:25:46.523897",
     "status": "completed"
    },
    "tags": []
   },
   "outputs": [
    {
     "data": {
      "text/plain": [
       "id                        0\n",
       "brand                     0\n",
       "category                  0\n",
       "name                      0\n",
       "size                      0\n",
       "rating                    0\n",
       "number_of_reviews         0\n",
       "love                      0\n",
       "price                     0\n",
       "value_price               0\n",
       "URL                       0\n",
       "MarketingFlags            0\n",
       "MarketingFlags_content    0\n",
       "options                   0\n",
       "details                   0\n",
       "how_to_use                0\n",
       "ingredients               0\n",
       "online_only               0\n",
       "exclusive                 0\n",
       "limited_edition           0\n",
       "limited_time_offer        0\n",
       "dtype: int64"
      ]
     },
     "execution_count": 9,
     "metadata": {},
     "output_type": "execute_result"
    }
   ],
   "source": [
    "missing_values_count = beauty_products.isnull().sum()\n",
    "missing_values_count\n",
    "\n",
    "#No missing variables, awesome!"
   ]
  },
  {
   "cell_type": "markdown",
   "id": "0cc61344",
   "metadata": {
    "papermill": {
     "duration": 0.007313,
     "end_time": "2022-12-07T22:25:46.569125",
     "exception": false,
     "start_time": "2022-12-07T22:25:46.561812",
     "status": "completed"
    },
    "tags": []
   },
   "source": [
    "Is There a correlation btween price and loved?"
   ]
  },
  {
   "cell_type": "code",
   "execution_count": 10,
   "id": "a75cd906",
   "metadata": {
    "execution": {
     "iopub.execute_input": "2022-12-07T22:25:46.587896Z",
     "iopub.status.busy": "2022-12-07T22:25:46.586809Z",
     "iopub.status.idle": "2022-12-07T22:25:46.612053Z",
     "shell.execute_reply": "2022-12-07T22:25:46.611194Z"
    },
    "papermill": {
     "duration": 0.037469,
     "end_time": "2022-12-07T22:25:46.614246",
     "exception": false,
     "start_time": "2022-12-07T22:25:46.576777",
     "status": "completed"
    },
    "tags": []
   },
   "outputs": [
    {
     "data": {
      "text/html": [
       "<div>\n",
       "<style scoped>\n",
       "    .dataframe tbody tr th:only-of-type {\n",
       "        vertical-align: middle;\n",
       "    }\n",
       "\n",
       "    .dataframe tbody tr th {\n",
       "        vertical-align: top;\n",
       "    }\n",
       "\n",
       "    .dataframe thead th {\n",
       "        text-align: right;\n",
       "    }\n",
       "</style>\n",
       "<table border=\"1\" class=\"dataframe\">\n",
       "  <thead>\n",
       "    <tr style=\"text-align: right;\">\n",
       "      <th></th>\n",
       "      <th>brand</th>\n",
       "      <th>price</th>\n",
       "    </tr>\n",
       "  </thead>\n",
       "  <tbody>\n",
       "    <tr>\n",
       "      <th>0</th>\n",
       "      <td>dyson</td>\n",
       "      <td>524.000000</td>\n",
       "    </tr>\n",
       "    <tr>\n",
       "      <th>1</th>\n",
       "      <td>ghd</td>\n",
       "      <td>207.750000</td>\n",
       "    </tr>\n",
       "    <tr>\n",
       "      <th>2</th>\n",
       "      <td>Bio Ionic</td>\n",
       "      <td>178.000000</td>\n",
       "    </tr>\n",
       "    <tr>\n",
       "      <th>3</th>\n",
       "      <td>T3</td>\n",
       "      <td>166.333333</td>\n",
       "    </tr>\n",
       "    <tr>\n",
       "      <th>4</th>\n",
       "      <td>Google</td>\n",
       "      <td>129.000000</td>\n",
       "    </tr>\n",
       "    <tr>\n",
       "      <th>5</th>\n",
       "      <td>StackedSkincare</td>\n",
       "      <td>75.000000</td>\n",
       "    </tr>\n",
       "    <tr>\n",
       "      <th>6</th>\n",
       "      <td>shu uemura</td>\n",
       "      <td>49.516129</td>\n",
       "    </tr>\n",
       "    <tr>\n",
       "      <th>7</th>\n",
       "      <td>Rahua</td>\n",
       "      <td>46.843750</td>\n",
       "    </tr>\n",
       "    <tr>\n",
       "      <th>8</th>\n",
       "      <td>Rossano Ferretti Parma</td>\n",
       "      <td>45.500000</td>\n",
       "    </tr>\n",
       "    <tr>\n",
       "      <th>9</th>\n",
       "      <td>Reverie</td>\n",
       "      <td>45.000000</td>\n",
       "    </tr>\n",
       "    <tr>\n",
       "      <th>10</th>\n",
       "      <td>Drybar</td>\n",
       "      <td>43.538462</td>\n",
       "    </tr>\n",
       "  </tbody>\n",
       "</table>\n",
       "</div>"
      ],
      "text/plain": [
       "                     brand       price\n",
       "0                    dyson  524.000000\n",
       "1                      ghd  207.750000\n",
       "2                Bio Ionic  178.000000\n",
       "3                       T3  166.333333\n",
       "4                   Google  129.000000\n",
       "5          StackedSkincare   75.000000\n",
       "6               shu uemura   49.516129\n",
       "7                    Rahua   46.843750\n",
       "8   Rossano Ferretti Parma   45.500000\n",
       "9                  Reverie   45.000000\n",
       "10                  Drybar   43.538462"
      ]
     },
     "execution_count": 10,
     "metadata": {},
     "output_type": "execute_result"
    }
   ],
   "source": [
    "hair_products=pd.DataFrame(beauty_products.loc[beauty_products.category.isin(hair_care)].groupby('brand')['price'].mean()).reset_index().sort_values(by='price', ascending=False).reset_index().drop('index',axis=1)\n",
    "hair_products.head(11)"
   ]
  },
  {
   "cell_type": "code",
   "execution_count": 11,
   "id": "d568f6b3",
   "metadata": {
    "execution": {
     "iopub.execute_input": "2022-12-07T22:25:46.632235Z",
     "iopub.status.busy": "2022-12-07T22:25:46.631755Z",
     "iopub.status.idle": "2022-12-07T22:25:48.068512Z",
     "shell.execute_reply": "2022-12-07T22:25:48.067309Z"
    },
    "papermill": {
     "duration": 1.449353,
     "end_time": "2022-12-07T22:25:48.071553",
     "exception": false,
     "start_time": "2022-12-07T22:25:46.622200",
     "status": "completed"
    },
    "tags": []
   },
   "outputs": [
    {
     "name": "stdout",
     "output_type": "stream",
     "text": [
      "Most expensive hair care products\n"
     ]
    },
    {
     "data": {
      "text/html": [
       "        <script type=\"text/javascript\">\n",
       "        window.PlotlyConfig = {MathJaxConfig: 'local'};\n",
       "        if (window.MathJax && window.MathJax.Hub && window.MathJax.Hub.Config) {window.MathJax.Hub.Config({SVG: {font: \"STIX-Web\"}});}\n",
       "        if (typeof require !== 'undefined') {\n",
       "        require.undef(\"plotly\");\n",
       "        requirejs.config({\n",
       "            paths: {\n",
       "                'plotly': ['https://cdn.plot.ly/plotly-2.14.0.min']\n",
       "            }\n",
       "        });\n",
       "        require(['plotly'], function(Plotly) {\n",
       "            window._Plotly = Plotly;\n",
       "        });\n",
       "        }\n",
       "        </script>\n",
       "        "
      ]
     },
     "metadata": {},
     "output_type": "display_data"
    },
    {
     "data": {
      "text/html": [
       "<div>                            <div id=\"df9d8b9e-5ea7-4981-8844-bbfcd2bf6da1\" class=\"plotly-graph-div\" style=\"height:525px; width:100%;\"></div>            <script type=\"text/javascript\">                require([\"plotly\"], function(Plotly) {                    window.PLOTLYENV=window.PLOTLYENV || {};                                    if (document.getElementById(\"df9d8b9e-5ea7-4981-8844-bbfcd2bf6da1\")) {                    Plotly.newPlot(                        \"df9d8b9e-5ea7-4981-8844-bbfcd2bf6da1\",                        [{\"domain\":{\"x\":[0.0,1.0],\"y\":[0.0,1.0]},\"hovertemplate\":\"brand=%{label}<br>price=%{value}<extra></extra>\",\"labels\":[\"dyson\",\"ghd\",\"Bio Ionic\",\"T3\",\"Google\",\"StackedSkincare\",\"shu uemura\",\"Rahua\",\"Rossano Ferretti Parma\",\"Reverie\"],\"legendgroup\":\"\",\"name\":\"\",\"showlegend\":true,\"values\":[524.0,207.75,178.0,166.33333333333334,129.0,75.0,49.516129032258064,46.84375,45.5,45.0],\"type\":\"pie\"}],                        {\"template\":{\"data\":{\"histogram2dcontour\":[{\"type\":\"histogram2dcontour\",\"colorbar\":{\"outlinewidth\":0,\"ticks\":\"\"},\"colorscale\":[[0.0,\"#0d0887\"],[0.1111111111111111,\"#46039f\"],[0.2222222222222222,\"#7201a8\"],[0.3333333333333333,\"#9c179e\"],[0.4444444444444444,\"#bd3786\"],[0.5555555555555556,\"#d8576b\"],[0.6666666666666666,\"#ed7953\"],[0.7777777777777778,\"#fb9f3a\"],[0.8888888888888888,\"#fdca26\"],[1.0,\"#f0f921\"]]}],\"choropleth\":[{\"type\":\"choropleth\",\"colorbar\":{\"outlinewidth\":0,\"ticks\":\"\"}}],\"histogram2d\":[{\"type\":\"histogram2d\",\"colorbar\":{\"outlinewidth\":0,\"ticks\":\"\"},\"colorscale\":[[0.0,\"#0d0887\"],[0.1111111111111111,\"#46039f\"],[0.2222222222222222,\"#7201a8\"],[0.3333333333333333,\"#9c179e\"],[0.4444444444444444,\"#bd3786\"],[0.5555555555555556,\"#d8576b\"],[0.6666666666666666,\"#ed7953\"],[0.7777777777777778,\"#fb9f3a\"],[0.8888888888888888,\"#fdca26\"],[1.0,\"#f0f921\"]]}],\"heatmap\":[{\"type\":\"heatmap\",\"colorbar\":{\"outlinewidth\":0,\"ticks\":\"\"},\"colorscale\":[[0.0,\"#0d0887\"],[0.1111111111111111,\"#46039f\"],[0.2222222222222222,\"#7201a8\"],[0.3333333333333333,\"#9c179e\"],[0.4444444444444444,\"#bd3786\"],[0.5555555555555556,\"#d8576b\"],[0.6666666666666666,\"#ed7953\"],[0.7777777777777778,\"#fb9f3a\"],[0.8888888888888888,\"#fdca26\"],[1.0,\"#f0f921\"]]}],\"heatmapgl\":[{\"type\":\"heatmapgl\",\"colorbar\":{\"outlinewidth\":0,\"ticks\":\"\"},\"colorscale\":[[0.0,\"#0d0887\"],[0.1111111111111111,\"#46039f\"],[0.2222222222222222,\"#7201a8\"],[0.3333333333333333,\"#9c179e\"],[0.4444444444444444,\"#bd3786\"],[0.5555555555555556,\"#d8576b\"],[0.6666666666666666,\"#ed7953\"],[0.7777777777777778,\"#fb9f3a\"],[0.8888888888888888,\"#fdca26\"],[1.0,\"#f0f921\"]]}],\"contourcarpet\":[{\"type\":\"contourcarpet\",\"colorbar\":{\"outlinewidth\":0,\"ticks\":\"\"}}],\"contour\":[{\"type\":\"contour\",\"colorbar\":{\"outlinewidth\":0,\"ticks\":\"\"},\"colorscale\":[[0.0,\"#0d0887\"],[0.1111111111111111,\"#46039f\"],[0.2222222222222222,\"#7201a8\"],[0.3333333333333333,\"#9c179e\"],[0.4444444444444444,\"#bd3786\"],[0.5555555555555556,\"#d8576b\"],[0.6666666666666666,\"#ed7953\"],[0.7777777777777778,\"#fb9f3a\"],[0.8888888888888888,\"#fdca26\"],[1.0,\"#f0f921\"]]}],\"surface\":[{\"type\":\"surface\",\"colorbar\":{\"outlinewidth\":0,\"ticks\":\"\"},\"colorscale\":[[0.0,\"#0d0887\"],[0.1111111111111111,\"#46039f\"],[0.2222222222222222,\"#7201a8\"],[0.3333333333333333,\"#9c179e\"],[0.4444444444444444,\"#bd3786\"],[0.5555555555555556,\"#d8576b\"],[0.6666666666666666,\"#ed7953\"],[0.7777777777777778,\"#fb9f3a\"],[0.8888888888888888,\"#fdca26\"],[1.0,\"#f0f921\"]]}],\"mesh3d\":[{\"type\":\"mesh3d\",\"colorbar\":{\"outlinewidth\":0,\"ticks\":\"\"}}],\"scatter\":[{\"fillpattern\":{\"fillmode\":\"overlay\",\"size\":10,\"solidity\":0.2},\"type\":\"scatter\"}],\"parcoords\":[{\"type\":\"parcoords\",\"line\":{\"colorbar\":{\"outlinewidth\":0,\"ticks\":\"\"}}}],\"scatterpolargl\":[{\"type\":\"scatterpolargl\",\"marker\":{\"colorbar\":{\"outlinewidth\":0,\"ticks\":\"\"}}}],\"bar\":[{\"error_x\":{\"color\":\"#2a3f5f\"},\"error_y\":{\"color\":\"#2a3f5f\"},\"marker\":{\"line\":{\"color\":\"#E5ECF6\",\"width\":0.5},\"pattern\":{\"fillmode\":\"overlay\",\"size\":10,\"solidity\":0.2}},\"type\":\"bar\"}],\"scattergeo\":[{\"type\":\"scattergeo\",\"marker\":{\"colorbar\":{\"outlinewidth\":0,\"ticks\":\"\"}}}],\"scatterpolar\":[{\"type\":\"scatterpolar\",\"marker\":{\"colorbar\":{\"outlinewidth\":0,\"ticks\":\"\"}}}],\"histogram\":[{\"marker\":{\"pattern\":{\"fillmode\":\"overlay\",\"size\":10,\"solidity\":0.2}},\"type\":\"histogram\"}],\"scattergl\":[{\"type\":\"scattergl\",\"marker\":{\"colorbar\":{\"outlinewidth\":0,\"ticks\":\"\"}}}],\"scatter3d\":[{\"type\":\"scatter3d\",\"line\":{\"colorbar\":{\"outlinewidth\":0,\"ticks\":\"\"}},\"marker\":{\"colorbar\":{\"outlinewidth\":0,\"ticks\":\"\"}}}],\"scattermapbox\":[{\"type\":\"scattermapbox\",\"marker\":{\"colorbar\":{\"outlinewidth\":0,\"ticks\":\"\"}}}],\"scatterternary\":[{\"type\":\"scatterternary\",\"marker\":{\"colorbar\":{\"outlinewidth\":0,\"ticks\":\"\"}}}],\"scattercarpet\":[{\"type\":\"scattercarpet\",\"marker\":{\"colorbar\":{\"outlinewidth\":0,\"ticks\":\"\"}}}],\"carpet\":[{\"aaxis\":{\"endlinecolor\":\"#2a3f5f\",\"gridcolor\":\"white\",\"linecolor\":\"white\",\"minorgridcolor\":\"white\",\"startlinecolor\":\"#2a3f5f\"},\"baxis\":{\"endlinecolor\":\"#2a3f5f\",\"gridcolor\":\"white\",\"linecolor\":\"white\",\"minorgridcolor\":\"white\",\"startlinecolor\":\"#2a3f5f\"},\"type\":\"carpet\"}],\"table\":[{\"cells\":{\"fill\":{\"color\":\"#EBF0F8\"},\"line\":{\"color\":\"white\"}},\"header\":{\"fill\":{\"color\":\"#C8D4E3\"},\"line\":{\"color\":\"white\"}},\"type\":\"table\"}],\"barpolar\":[{\"marker\":{\"line\":{\"color\":\"#E5ECF6\",\"width\":0.5},\"pattern\":{\"fillmode\":\"overlay\",\"size\":10,\"solidity\":0.2}},\"type\":\"barpolar\"}],\"pie\":[{\"automargin\":true,\"type\":\"pie\"}]},\"layout\":{\"autotypenumbers\":\"strict\",\"colorway\":[\"#636efa\",\"#EF553B\",\"#00cc96\",\"#ab63fa\",\"#FFA15A\",\"#19d3f3\",\"#FF6692\",\"#B6E880\",\"#FF97FF\",\"#FECB52\"],\"font\":{\"color\":\"#2a3f5f\"},\"hovermode\":\"closest\",\"hoverlabel\":{\"align\":\"left\"},\"paper_bgcolor\":\"white\",\"plot_bgcolor\":\"#E5ECF6\",\"polar\":{\"bgcolor\":\"#E5ECF6\",\"angularaxis\":{\"gridcolor\":\"white\",\"linecolor\":\"white\",\"ticks\":\"\"},\"radialaxis\":{\"gridcolor\":\"white\",\"linecolor\":\"white\",\"ticks\":\"\"}},\"ternary\":{\"bgcolor\":\"#E5ECF6\",\"aaxis\":{\"gridcolor\":\"white\",\"linecolor\":\"white\",\"ticks\":\"\"},\"baxis\":{\"gridcolor\":\"white\",\"linecolor\":\"white\",\"ticks\":\"\"},\"caxis\":{\"gridcolor\":\"white\",\"linecolor\":\"white\",\"ticks\":\"\"}},\"coloraxis\":{\"colorbar\":{\"outlinewidth\":0,\"ticks\":\"\"}},\"colorscale\":{\"sequential\":[[0.0,\"#0d0887\"],[0.1111111111111111,\"#46039f\"],[0.2222222222222222,\"#7201a8\"],[0.3333333333333333,\"#9c179e\"],[0.4444444444444444,\"#bd3786\"],[0.5555555555555556,\"#d8576b\"],[0.6666666666666666,\"#ed7953\"],[0.7777777777777778,\"#fb9f3a\"],[0.8888888888888888,\"#fdca26\"],[1.0,\"#f0f921\"]],\"sequentialminus\":[[0.0,\"#0d0887\"],[0.1111111111111111,\"#46039f\"],[0.2222222222222222,\"#7201a8\"],[0.3333333333333333,\"#9c179e\"],[0.4444444444444444,\"#bd3786\"],[0.5555555555555556,\"#d8576b\"],[0.6666666666666666,\"#ed7953\"],[0.7777777777777778,\"#fb9f3a\"],[0.8888888888888888,\"#fdca26\"],[1.0,\"#f0f921\"]],\"diverging\":[[0,\"#8e0152\"],[0.1,\"#c51b7d\"],[0.2,\"#de77ae\"],[0.3,\"#f1b6da\"],[0.4,\"#fde0ef\"],[0.5,\"#f7f7f7\"],[0.6,\"#e6f5d0\"],[0.7,\"#b8e186\"],[0.8,\"#7fbc41\"],[0.9,\"#4d9221\"],[1,\"#276419\"]]},\"xaxis\":{\"gridcolor\":\"white\",\"linecolor\":\"white\",\"ticks\":\"\",\"title\":{\"standoff\":15},\"zerolinecolor\":\"white\",\"automargin\":true,\"zerolinewidth\":2},\"yaxis\":{\"gridcolor\":\"white\",\"linecolor\":\"white\",\"ticks\":\"\",\"title\":{\"standoff\":15},\"zerolinecolor\":\"white\",\"automargin\":true,\"zerolinewidth\":2},\"scene\":{\"xaxis\":{\"backgroundcolor\":\"#E5ECF6\",\"gridcolor\":\"white\",\"linecolor\":\"white\",\"showbackground\":true,\"ticks\":\"\",\"zerolinecolor\":\"white\",\"gridwidth\":2},\"yaxis\":{\"backgroundcolor\":\"#E5ECF6\",\"gridcolor\":\"white\",\"linecolor\":\"white\",\"showbackground\":true,\"ticks\":\"\",\"zerolinecolor\":\"white\",\"gridwidth\":2},\"zaxis\":{\"backgroundcolor\":\"#E5ECF6\",\"gridcolor\":\"white\",\"linecolor\":\"white\",\"showbackground\":true,\"ticks\":\"\",\"zerolinecolor\":\"white\",\"gridwidth\":2}},\"shapedefaults\":{\"line\":{\"color\":\"#2a3f5f\"}},\"annotationdefaults\":{\"arrowcolor\":\"#2a3f5f\",\"arrowhead\":0,\"arrowwidth\":1},\"geo\":{\"bgcolor\":\"white\",\"landcolor\":\"#E5ECF6\",\"subunitcolor\":\"white\",\"showland\":true,\"showlakes\":true,\"lakecolor\":\"white\"},\"title\":{\"x\":0.05},\"mapbox\":{\"style\":\"light\"}}},\"legend\":{\"tracegroupgap\":0},\"margin\":{\"t\":60}},                        {\"responsive\": true}                    ).then(function(){\n",
       "                            \n",
       "var gd = document.getElementById('df9d8b9e-5ea7-4981-8844-bbfcd2bf6da1');\n",
       "var x = new MutationObserver(function (mutations, observer) {{\n",
       "        var display = window.getComputedStyle(gd).display;\n",
       "        if (!display || display === 'none') {{\n",
       "            console.log([gd, 'removed!']);\n",
       "            Plotly.purge(gd);\n",
       "            observer.disconnect();\n",
       "        }}\n",
       "}});\n",
       "\n",
       "// Listen for the removal of the full notebook cells\n",
       "var notebookContainer = gd.closest('#notebook-container');\n",
       "if (notebookContainer) {{\n",
       "    x.observe(notebookContainer, {childList: true});\n",
       "}}\n",
       "\n",
       "// Listen for the clearing of the current output cell\n",
       "var outputEl = gd.closest('.output');\n",
       "if (outputEl) {{\n",
       "    x.observe(outputEl, {childList: true});\n",
       "}}\n",
       "\n",
       "                        })                };                });            </script>        </div>"
      ]
     },
     "metadata": {},
     "output_type": "display_data"
    }
   ],
   "source": [
    "hair_products=pd.DataFrame(beauty_products.loc[beauty_products.category.isin(hair_care)].groupby('brand')['price'].mean()).reset_index().sort_values(by='price', ascending=False).reset_index().drop('index',axis=1)\n",
    "hair_products.head(10)\n",
    "sliced_df=hair_products.iloc[0:10]\n",
    "print(\"Most expensive hair care products\")\n",
    "px.pie(sliced_df,names=sliced_df.brand,values=sliced_df.price)\n"
   ]
  },
  {
   "cell_type": "code",
   "execution_count": 12,
   "id": "81ae4ffa",
   "metadata": {
    "execution": {
     "iopub.execute_input": "2022-12-07T22:25:48.091250Z",
     "iopub.status.busy": "2022-12-07T22:25:48.090102Z",
     "iopub.status.idle": "2022-12-07T22:25:48.109968Z",
     "shell.execute_reply": "2022-12-07T22:25:48.108723Z"
    },
    "papermill": {
     "duration": 0.031937,
     "end_time": "2022-12-07T22:25:48.112436",
     "exception": false,
     "start_time": "2022-12-07T22:25:48.080499",
     "status": "completed"
    },
    "tags": []
   },
   "outputs": [
    {
     "data": {
      "text/html": [
       "<div>\n",
       "<style scoped>\n",
       "    .dataframe tbody tr th:only-of-type {\n",
       "        vertical-align: middle;\n",
       "    }\n",
       "\n",
       "    .dataframe tbody tr th {\n",
       "        vertical-align: top;\n",
       "    }\n",
       "\n",
       "    .dataframe thead th {\n",
       "        text-align: right;\n",
       "    }\n",
       "</style>\n",
       "<table border=\"1\" class=\"dataframe\">\n",
       "  <thead>\n",
       "    <tr style=\"text-align: right;\">\n",
       "      <th></th>\n",
       "      <th>brand</th>\n",
       "      <th>price</th>\n",
       "    </tr>\n",
       "  </thead>\n",
       "  <tbody>\n",
       "    <tr>\n",
       "      <th>0</th>\n",
       "      <td>LANCER Skincare</td>\n",
       "      <td>150.000000</td>\n",
       "    </tr>\n",
       "    <tr>\n",
       "      <th>1</th>\n",
       "      <td>La Mer</td>\n",
       "      <td>86.000000</td>\n",
       "    </tr>\n",
       "    <tr>\n",
       "      <th>2</th>\n",
       "      <td>Peter Thomas Roth</td>\n",
       "      <td>85.000000</td>\n",
       "    </tr>\n",
       "    <tr>\n",
       "      <th>3</th>\n",
       "      <td>Christian Louboutin</td>\n",
       "      <td>81.875000</td>\n",
       "    </tr>\n",
       "    <tr>\n",
       "      <th>4</th>\n",
       "      <td>Koh Gen Do</td>\n",
       "      <td>64.666667</td>\n",
       "    </tr>\n",
       "    <tr>\n",
       "      <th>5</th>\n",
       "      <td>surratt beauty</td>\n",
       "      <td>62.578947</td>\n",
       "    </tr>\n",
       "    <tr>\n",
       "      <th>6</th>\n",
       "      <td>LASHFOOD</td>\n",
       "      <td>62.000000</td>\n",
       "    </tr>\n",
       "    <tr>\n",
       "      <th>7</th>\n",
       "      <td>AMOREPACIFIC</td>\n",
       "      <td>60.000000</td>\n",
       "    </tr>\n",
       "    <tr>\n",
       "      <th>8</th>\n",
       "      <td>TOM FORD</td>\n",
       "      <td>56.321429</td>\n",
       "    </tr>\n",
       "    <tr>\n",
       "      <th>9</th>\n",
       "      <td>Artis</td>\n",
       "      <td>55.285714</td>\n",
       "    </tr>\n",
       "  </tbody>\n",
       "</table>\n",
       "</div>"
      ],
      "text/plain": [
       "                 brand       price\n",
       "0      LANCER Skincare  150.000000\n",
       "1               La Mer   86.000000\n",
       "2    Peter Thomas Roth   85.000000\n",
       "3  Christian Louboutin   81.875000\n",
       "4           Koh Gen Do   64.666667\n",
       "5       surratt beauty   62.578947\n",
       "6             LASHFOOD   62.000000\n",
       "7         AMOREPACIFIC   60.000000\n",
       "8             TOM FORD   56.321429\n",
       "9                Artis   55.285714"
      ]
     },
     "execution_count": 12,
     "metadata": {},
     "output_type": "execute_result"
    }
   ],
   "source": [
    "makeup_products=pd.DataFrame(beauty_products.loc[beauty_products.category.isin(makeup_products)].groupby('brand')['price'].mean()).reset_index().sort_values(by='price', ascending=False).reset_index().drop('index',axis=1)\n",
    "makeup_products.head(10)"
   ]
  },
  {
   "cell_type": "code",
   "execution_count": 13,
   "id": "c74f5435",
   "metadata": {
    "execution": {
     "iopub.execute_input": "2022-12-07T22:25:48.131734Z",
     "iopub.status.busy": "2022-12-07T22:25:48.130624Z",
     "iopub.status.idle": "2022-12-07T22:25:48.150716Z",
     "shell.execute_reply": "2022-12-07T22:25:48.149532Z"
    },
    "papermill": {
     "duration": 0.03239,
     "end_time": "2022-12-07T22:25:48.153258",
     "exception": false,
     "start_time": "2022-12-07T22:25:48.120868",
     "status": "completed"
    },
    "tags": []
   },
   "outputs": [
    {
     "data": {
      "text/html": [
       "<div>\n",
       "<style scoped>\n",
       "    .dataframe tbody tr th:only-of-type {\n",
       "        vertical-align: middle;\n",
       "    }\n",
       "\n",
       "    .dataframe tbody tr th {\n",
       "        vertical-align: top;\n",
       "    }\n",
       "\n",
       "    .dataframe thead th {\n",
       "        text-align: right;\n",
       "    }\n",
       "</style>\n",
       "<table border=\"1\" class=\"dataframe\">\n",
       "  <thead>\n",
       "    <tr style=\"text-align: right;\">\n",
       "      <th></th>\n",
       "      <th>brand</th>\n",
       "      <th>price</th>\n",
       "    </tr>\n",
       "  </thead>\n",
       "  <tbody>\n",
       "    <tr>\n",
       "      <th>0</th>\n",
       "      <td>SK-II</td>\n",
       "      <td>193.800000</td>\n",
       "    </tr>\n",
       "    <tr>\n",
       "      <th>1</th>\n",
       "      <td>Dr. Barbara Sturm</td>\n",
       "      <td>189.642857</td>\n",
       "    </tr>\n",
       "    <tr>\n",
       "      <th>2</th>\n",
       "      <td>La Mer</td>\n",
       "      <td>174.545455</td>\n",
       "    </tr>\n",
       "    <tr>\n",
       "      <th>3</th>\n",
       "      <td>Tata Harper</td>\n",
       "      <td>159.888889</td>\n",
       "    </tr>\n",
       "    <tr>\n",
       "      <th>4</th>\n",
       "      <td>Guerlain</td>\n",
       "      <td>158.392857</td>\n",
       "    </tr>\n",
       "    <tr>\n",
       "      <th>5</th>\n",
       "      <td>StackedSkincare</td>\n",
       "      <td>143.333333</td>\n",
       "    </tr>\n",
       "    <tr>\n",
       "      <th>6</th>\n",
       "      <td>HERMÈS</td>\n",
       "      <td>143.000000</td>\n",
       "    </tr>\n",
       "    <tr>\n",
       "      <th>7</th>\n",
       "      <td>Omorovicza</td>\n",
       "      <td>131.000000</td>\n",
       "    </tr>\n",
       "    <tr>\n",
       "      <th>8</th>\n",
       "      <td>AMOREPACIFIC</td>\n",
       "      <td>126.866667</td>\n",
       "    </tr>\n",
       "    <tr>\n",
       "      <th>9</th>\n",
       "      <td>goop</td>\n",
       "      <td>125.000000</td>\n",
       "    </tr>\n",
       "  </tbody>\n",
       "</table>\n",
       "</div>"
      ],
      "text/plain": [
       "               brand       price\n",
       "0              SK-II  193.800000\n",
       "1  Dr. Barbara Sturm  189.642857\n",
       "2             La Mer  174.545455\n",
       "3        Tata Harper  159.888889\n",
       "4           Guerlain  158.392857\n",
       "5    StackedSkincare  143.333333\n",
       "6             HERMÈS  143.000000\n",
       "7         Omorovicza  131.000000\n",
       "8       AMOREPACIFIC  126.866667\n",
       "9               goop  125.000000"
      ]
     },
     "execution_count": 13,
     "metadata": {},
     "output_type": "execute_result"
    }
   ],
   "source": [
    "skincare=pd.DataFrame(beauty_products.loc[beauty_products.category.isin(skin_care)].groupby('brand')['price'].mean()).reset_index().sort_values(by='price', ascending=False).reset_index().drop('index',axis=1)\n",
    "skincare.head(10)"
   ]
  },
  {
   "cell_type": "code",
   "execution_count": 14,
   "id": "543bbda8",
   "metadata": {
    "execution": {
     "iopub.execute_input": "2022-12-07T22:25:48.172757Z",
     "iopub.status.busy": "2022-12-07T22:25:48.171881Z",
     "iopub.status.idle": "2022-12-07T22:25:48.190771Z",
     "shell.execute_reply": "2022-12-07T22:25:48.189951Z"
    },
    "papermill": {
     "duration": 0.031026,
     "end_time": "2022-12-07T22:25:48.193072",
     "exception": false,
     "start_time": "2022-12-07T22:25:48.162046",
     "status": "completed"
    },
    "tags": []
   },
   "outputs": [
    {
     "data": {
      "text/html": [
       "<div>\n",
       "<style scoped>\n",
       "    .dataframe tbody tr th:only-of-type {\n",
       "        vertical-align: middle;\n",
       "    }\n",
       "\n",
       "    .dataframe tbody tr th {\n",
       "        vertical-align: top;\n",
       "    }\n",
       "\n",
       "    .dataframe thead th {\n",
       "        text-align: right;\n",
       "    }\n",
       "</style>\n",
       "<table border=\"1\" class=\"dataframe\">\n",
       "  <thead>\n",
       "    <tr style=\"text-align: right;\">\n",
       "      <th></th>\n",
       "      <th>brand</th>\n",
       "      <th>love</th>\n",
       "    </tr>\n",
       "  </thead>\n",
       "  <tbody>\n",
       "    <tr>\n",
       "      <th>0</th>\n",
       "      <td>Tatcha</td>\n",
       "      <td>120450.000000</td>\n",
       "    </tr>\n",
       "    <tr>\n",
       "      <th>1</th>\n",
       "      <td>Glow Recipe</td>\n",
       "      <td>67200.000000</td>\n",
       "    </tr>\n",
       "    <tr>\n",
       "      <th>2</th>\n",
       "      <td>FENTY BEAUTY by Rihanna</td>\n",
       "      <td>58300.000000</td>\n",
       "    </tr>\n",
       "    <tr>\n",
       "      <th>3</th>\n",
       "      <td>Caudalie</td>\n",
       "      <td>47538.800000</td>\n",
       "    </tr>\n",
       "    <tr>\n",
       "      <th>4</th>\n",
       "      <td>tarte</td>\n",
       "      <td>45400.000000</td>\n",
       "    </tr>\n",
       "    <tr>\n",
       "      <th>5</th>\n",
       "      <td>Sol de Janeiro</td>\n",
       "      <td>37276.555556</td>\n",
       "    </tr>\n",
       "    <tr>\n",
       "      <th>6</th>\n",
       "      <td>SK-II</td>\n",
       "      <td>25200.000000</td>\n",
       "    </tr>\n",
       "    <tr>\n",
       "      <th>7</th>\n",
       "      <td>KVD Vegan Beauty</td>\n",
       "      <td>19950.000000</td>\n",
       "    </tr>\n",
       "    <tr>\n",
       "      <th>8</th>\n",
       "      <td>PATRICK TA</td>\n",
       "      <td>18650.000000</td>\n",
       "    </tr>\n",
       "    <tr>\n",
       "      <th>9</th>\n",
       "      <td>Omorovicza</td>\n",
       "      <td>17500.000000</td>\n",
       "    </tr>\n",
       "  </tbody>\n",
       "</table>\n",
       "</div>"
      ],
      "text/plain": [
       "                     brand           love\n",
       "0                   Tatcha  120450.000000\n",
       "1              Glow Recipe   67200.000000\n",
       "2  FENTY BEAUTY by Rihanna   58300.000000\n",
       "3                 Caudalie   47538.800000\n",
       "4                    tarte   45400.000000\n",
       "5           Sol de Janeiro   37276.555556\n",
       "6                    SK-II   25200.000000\n",
       "7         KVD Vegan Beauty   19950.000000\n",
       "8               PATRICK TA   18650.000000\n",
       "9               Omorovicza   17500.000000"
      ]
     },
     "execution_count": 14,
     "metadata": {},
     "output_type": "execute_result"
    }
   ],
   "source": [
    "body=pd.DataFrame(beauty_products.loc[beauty_products.category.isin(body)].groupby('brand')['love'].mean()).reset_index().sort_values(by='love', ascending=False).reset_index().drop('index',axis=1)\n",
    "body.head(10)"
   ]
  },
  {
   "cell_type": "code",
   "execution_count": 15,
   "id": "0babc614",
   "metadata": {
    "execution": {
     "iopub.execute_input": "2022-12-07T22:25:48.212810Z",
     "iopub.status.busy": "2022-12-07T22:25:48.212398Z",
     "iopub.status.idle": "2022-12-07T22:25:48.314987Z",
     "shell.execute_reply": "2022-12-07T22:25:48.313798Z"
    },
    "papermill": {
     "duration": 0.115094,
     "end_time": "2022-12-07T22:25:48.317184",
     "exception": false,
     "start_time": "2022-12-07T22:25:48.202090",
     "status": "completed"
    },
    "tags": []
   },
   "outputs": [
    {
     "name": "stdout",
     "output_type": "stream",
     "text": [
      "availabe brands at Sephora and amount\n"
     ]
    },
    {
     "data": {
      "text/html": [
       "<div>                            <div id=\"aa8c7b55-c50c-4275-8e4e-37c1557a4a2c\" class=\"plotly-graph-div\" style=\"height:525px; width:100%;\"></div>            <script type=\"text/javascript\">                require([\"plotly\"], function(Plotly) {                    window.PLOTLYENV=window.PLOTLYENV || {};                                    if (document.getElementById(\"aa8c7b55-c50c-4275-8e4e-37c1557a4a2c\")) {                    Plotly.newPlot(                        \"aa8c7b55-c50c-4275-8e4e-37c1557a4a2c\",                        [{\"alignmentgroup\":\"True\",\"hovertemplate\":\"variable=brand<br>index=%{x}<br>value=%{y}<extra></extra>\",\"legendgroup\":\"brand\",\"marker\":{\"color\":\"#636efa\",\"pattern\":{\"shape\":\"\"}},\"name\":\"brand\",\"offsetgroup\":\"brand\",\"orientation\":\"v\",\"showlegend\":true,\"textposition\":\"auto\",\"x\":[\"SEPHORA COLLECTION\",\"CLINIQUE\",\"tarte\",\"TOM FORD\",\"Dior\",\"Fresh\",\"Kiehl's Since 1851\",\"Lancôme\",\"Bumble and bumble\",\"MAKE UP FOR EVER\",\"Moroccanoil\",\"Kérastase\",\"Shiseido\",\"Benefit Cosmetics\",\"FENTY BEAUTY by Rihanna\",\"philosophy\",\"Too Faced\",\"Yves Saint Laurent\",\"Jo Malone London\",\"Givenchy\",\"Urban Decay\",\"Charlotte Tilbury\",\"Bobbi Brown\",\"Living Proof\",\"Origins\",\"KVD Vegan Beauty\",\"Hourglass\",\"Anastasia Beverly Hills\",\"Peter Thomas Roth\",\"NEST New York\",\"MILK MAKEUP\",\"Estée Lauder\",\"Laura Mercier\",\"amika\",\"Perricone MD\",\"Marc Jacobs Beauty\",\"Natasha Denona\",\"IT Cosmetics\",\"Armani Beauty\",\"Murad\",\"Drybar\",\"Guerlain\",\"Caudalie\",\"NARS\",\"bareMinerals\",\"Clarins\",\"HUDA BEAUTY\",\"VOLUSPA\",\"Gucci\",\"Dr. Jart+\",\"Smashbox\",\"Algenist\",\"CHANEL\",\"Atelier Cologne\",\"Jack Black\",\"CLEAN RESERVE\",\"TOCCA\",\"Briogeo\",\"La Mer\",\"Dermalogica\",\"DevaCurl\",\"Dr. Dennis Gross Skincare\",\"shu uemura\",\"REN Clean Skincare\",\"The Ordinary\",\"Kate Somerville\",\"Dr. Barbara Sturm\",\"ALTERNA Haircare\",\"First Aid Beauty\",\"Verb\",\"The INKEY List\",\"Christophe Robin\",\"Supergoop!\",\"DOLCE&GABBANA\",\"Tatcha\",\"PAT McGRATH LABS\",\"L'Occitane\",\"BECCA\",\"HERMÈS\",\"Josie Maran\",\"Maison Margiela\",\"Acqua Di Parma\",\"Viktor&Rolf\",\"innisfree\",\"beautyblender\",\"LANEIGE\",\"IGK\",\"AMOREPACIFIC\",\"Virtue\",\"GLAMGLOW\",\"OUAI\",\"Drunk Elephant\",\"Kilian\",\"T3\",\"OLEHENRIKSEN\",\"Tata Harper\",\"Herbivore\",\"Versace\",\"Primera\",\"belif\",\"ELLIS BROOKLYN\",\"rms beauty\",\"Marc Jacobs Fragrances\",\"Maison Louis Marie\",\"Kitsch\",\"St. Tropez\",\"Dr. Brandt Skincare\",\"COOLA\",\"Sol de Janeiro\",\"Mario Badescu\",\"HUM Nutrition\",\"LANCER Skincare\",\"BURBERRY\",\"NUDESTIX\",\"Eve Lom\",\"Rossano Ferretti Parma\",\"Ralph Lauren\",\"Melt Cosmetics\",\"Moon Juice\",\"FOREO\",\"Juliette Has a Gun\",\"INC.redible\",\"surratt beauty\",\"KEVYN AUCOIN\",\"BVLGARI\",\"Rahua\",\"NAILS INC.\",\"ILIA\",\"Farmacy\",\"BeautyBio\",\"Viseart\",\"Wander Beauty\",\"O&M\",\"SUNDAY RILEY\",\"Clarisonic Skincare\",\"Deborah Lippmann\",\"Proactiv\",\"Kopari\",\"Ciaté London\",\"AERIN\",\"Skinfix\",\"PINROSE\",\"Dr Roebuck's\",\"Biossance\",\"Chloé\",\"Sulwhasoo\",\"By Rosie Jane\",\"Omorovicza\",\"Prada\",\"Artis\",\"Sephora Favorites\",\"SK-II\",\"boscia\",\"KORA Organics\",\"Floral Street\",\"Sachajuan\",\"Jouer Cosmetics\",\"dpHUE\",\"lilah b.\",\"Kaja\",\"Seed Phytonutrients\",\"ghd\",\"The 7 Virtues\",\"Mizani\",\"Violet Voss\",\"KORRES\",\"Capri Blue\",\"Together Beauty\",\"Glow Recipe\",\"NuFACE\",\"PHLUR\",\"Saturday Skin\",\"The Art of Shaving\",\"Marvis\",\"goop\",\"SKYLAR\",\"Pretty Vulgar\",\"Anthony\",\"Better Not Younger\",\"Erno Laszlo\",\"Miu Miu\",\"TWEEZERMAN\",\"Youth To The People\",\"BERDOUES\",\"FARSÁLI\",\"PATRICK TA\",\"Erborian\",\"Grande Cosmetics\",\"COVER FX\",\"Volition Beauty\",\"Slip\",\"Vitruvi\",\"STELLAR\",\"Alpha-H\",\"Christian Louboutin\",\"Lab Series For Men\",\"Carolina Herrera\",\"Mount Lai\",\"Edible Beauty\",\"TAN-LUXE\",\"Bite Beauty\",\"Bio Ionic\",\"Overose\",\"Cinema Secrets\",\"Vital Proteins\",\"Velour Lashes\",\"Juicy Couture\",\"Klorane\",\"FORM \",\"Naturally Serious\",\"Indie Lee\",\"Qhemet Biologics\",\"Tory Burch\",\"Michael Kors\",\"Isle of Paradise\",\"Lilly Lashes\",\"LAWLESS\",\"KENZOKI\",\"PMD\",\"DOMINIQUE COSMETICS\",\"StackedSkincare\",\"Kosas\",\"Calvin Klein\",\"The Beauty Chef\",\"John Varvatos\",\"Good Dye Young\",\"Narciso Rodriguez\",\"Playa\",\"SOBEL SKIN Rx\",\"Comptoir Sud Pacifique\",\"RODIN olio lusso \",\"Reverie\",\"Donna Karan\",\"dyson\",\"Artist Couture\",\"Paco Rabanne\",\"Obagi Clinical\",\"Nurse Jamie\",\"lululemon selfcare\",\"ROEN BEAUTY\",\"Elizabeth and James\",\"Peace Out\",\"Olaplex\",\"Mugler\",\"Rosebud Perfume Co.\",\"Lord Jones\",\"stila\",\"Koh Gen Do\",\"Summer Fridays\",\"Moschino\",\"WelleCo\",\"Coal and Canary\",\"Aether Beauty\",\"Shani Darden Skin Care\",\"Montblanc\",\"PLAY! by SEPHORA\",\"rag & bone\",\"Prima\",\"Buxom\",\"LASHFOOD\",\"Black Up\",\"Tower 28 Beauty\",\"alpyn beauty\",\"Skin Laundry\",\"Rita Hazan\",\"Fable & Mane\",\"DEREK LAM 10 CROSBY\",\"GLO Science\",\"Aquis\",\"Kenzo\",\"KNC Beauty\",\"Pink Sugar\",\"trèStiQue\",\"Touch In Sol\",\"Golde\",\"ReFa\",\"Madam C.J. Walker Beauty Culture\",\"MAELYS Cosmetics\",\"Shaveworks\",\"Earth’s Nectar\",\"Valentino\",\"Blinc\",\"Antonym\",\"8Greens\",\"JIMMY CHOO\",\"LAVANILA\",\"Evian\",\"LXMI\",\"kate spade new york\",\"Eight & Bob\",\"Sakara Life\",\"DERMAFLASH\",\"dae\",\"Saint Jane Beauty\",\"invisibobble\",\"Skin Inc Supplement Bar\",\"DUO\",\"Crushed Tonic\",\"BALENCIAGA\",\"Bésame Cosmetics\",\"Winky Lux\",\"Makeup Eraser\",\"Commodity\",\"YUNI\",\"LightStim \",\"Four Sigmatic\",\"Cellu-cup\",\"Lunar Beauty\",\"Wishful\",\"Jillian Dempsey\",\"Flora + Bast\",\"MDSolarSciences\",\"High Beauty\",\"Google\",\"Beachwaver\",\"Etat Libre d'Orange\",\"Too Cool For School\",\"TokyoMilk\",\"Conture\",\"SHHHOWERCAP\",\"Taste Beauty\",\"bkr\",\"Cocofloss\",\"DL.MD\"],\"xaxis\":\"x\",\"y\":[496,234,170,161,145,138,126,120,104,99,98,96,95,93,85,84,81,81,76,76,76,75,74,74,73,71,70,70,69,67,67,66,64,64,64,60,60,60,59,59,58,58,57,57,57,55,54,54,54,54,54,52,52,51,51,50,50,49,48,48,46,45,45,44,43,43,42,42,42,40,38,38,38,37,36,36,36,36,35,35,35,35,35,34,33,33,33,33,33,33,33,32,32,31,31,31,30,30,30,29,29,29,28,28,28,28,28,28,27,27,27,27,27,27,27,26,26,26,26,26,25,25,25,25,25,25,24,24,24,24,23,23,23,23,23,23,22,22,22,22,22,22,21,21,21,21,21,20,20,20,20,20,20,19,19,19,19,19,18,18,17,17,17,16,16,16,16,15,15,15,15,15,15,15,15,15,14,14,14,14,14,14,14,14,14,14,14,13,13,13,13,13,13,13,12,12,12,12,12,12,12,12,12,11,11,11,11,11,11,11,10,10,10,10,10,10,10,10,9,9,9,9,9,9,9,9,9,8,8,8,8,8,8,8,8,8,8,8,7,7,7,7,7,7,7,7,7,7,7,7,6,6,6,6,6,6,6,6,6,5,5,5,5,5,5,5,5,5,5,4,4,4,4,4,4,4,4,4,4,4,3,3,3,3,3,3,3,3,3,3,3,3,3,3,2,2,2,2,2,2,2,2,2,2,2,2,1,1,1,1,1,1,1,1,1,1,1,1,1,1,1,1,1,1],\"yaxis\":\"y\",\"type\":\"bar\"}],                        {\"template\":{\"data\":{\"histogram2dcontour\":[{\"type\":\"histogram2dcontour\",\"colorbar\":{\"outlinewidth\":0,\"ticks\":\"\"},\"colorscale\":[[0.0,\"#0d0887\"],[0.1111111111111111,\"#46039f\"],[0.2222222222222222,\"#7201a8\"],[0.3333333333333333,\"#9c179e\"],[0.4444444444444444,\"#bd3786\"],[0.5555555555555556,\"#d8576b\"],[0.6666666666666666,\"#ed7953\"],[0.7777777777777778,\"#fb9f3a\"],[0.8888888888888888,\"#fdca26\"],[1.0,\"#f0f921\"]]}],\"choropleth\":[{\"type\":\"choropleth\",\"colorbar\":{\"outlinewidth\":0,\"ticks\":\"\"}}],\"histogram2d\":[{\"type\":\"histogram2d\",\"colorbar\":{\"outlinewidth\":0,\"ticks\":\"\"},\"colorscale\":[[0.0,\"#0d0887\"],[0.1111111111111111,\"#46039f\"],[0.2222222222222222,\"#7201a8\"],[0.3333333333333333,\"#9c179e\"],[0.4444444444444444,\"#bd3786\"],[0.5555555555555556,\"#d8576b\"],[0.6666666666666666,\"#ed7953\"],[0.7777777777777778,\"#fb9f3a\"],[0.8888888888888888,\"#fdca26\"],[1.0,\"#f0f921\"]]}],\"heatmap\":[{\"type\":\"heatmap\",\"colorbar\":{\"outlinewidth\":0,\"ticks\":\"\"},\"colorscale\":[[0.0,\"#0d0887\"],[0.1111111111111111,\"#46039f\"],[0.2222222222222222,\"#7201a8\"],[0.3333333333333333,\"#9c179e\"],[0.4444444444444444,\"#bd3786\"],[0.5555555555555556,\"#d8576b\"],[0.6666666666666666,\"#ed7953\"],[0.7777777777777778,\"#fb9f3a\"],[0.8888888888888888,\"#fdca26\"],[1.0,\"#f0f921\"]]}],\"heatmapgl\":[{\"type\":\"heatmapgl\",\"colorbar\":{\"outlinewidth\":0,\"ticks\":\"\"},\"colorscale\":[[0.0,\"#0d0887\"],[0.1111111111111111,\"#46039f\"],[0.2222222222222222,\"#7201a8\"],[0.3333333333333333,\"#9c179e\"],[0.4444444444444444,\"#bd3786\"],[0.5555555555555556,\"#d8576b\"],[0.6666666666666666,\"#ed7953\"],[0.7777777777777778,\"#fb9f3a\"],[0.8888888888888888,\"#fdca26\"],[1.0,\"#f0f921\"]]}],\"contourcarpet\":[{\"type\":\"contourcarpet\",\"colorbar\":{\"outlinewidth\":0,\"ticks\":\"\"}}],\"contour\":[{\"type\":\"contour\",\"colorbar\":{\"outlinewidth\":0,\"ticks\":\"\"},\"colorscale\":[[0.0,\"#0d0887\"],[0.1111111111111111,\"#46039f\"],[0.2222222222222222,\"#7201a8\"],[0.3333333333333333,\"#9c179e\"],[0.4444444444444444,\"#bd3786\"],[0.5555555555555556,\"#d8576b\"],[0.6666666666666666,\"#ed7953\"],[0.7777777777777778,\"#fb9f3a\"],[0.8888888888888888,\"#fdca26\"],[1.0,\"#f0f921\"]]}],\"surface\":[{\"type\":\"surface\",\"colorbar\":{\"outlinewidth\":0,\"ticks\":\"\"},\"colorscale\":[[0.0,\"#0d0887\"],[0.1111111111111111,\"#46039f\"],[0.2222222222222222,\"#7201a8\"],[0.3333333333333333,\"#9c179e\"],[0.4444444444444444,\"#bd3786\"],[0.5555555555555556,\"#d8576b\"],[0.6666666666666666,\"#ed7953\"],[0.7777777777777778,\"#fb9f3a\"],[0.8888888888888888,\"#fdca26\"],[1.0,\"#f0f921\"]]}],\"mesh3d\":[{\"type\":\"mesh3d\",\"colorbar\":{\"outlinewidth\":0,\"ticks\":\"\"}}],\"scatter\":[{\"fillpattern\":{\"fillmode\":\"overlay\",\"size\":10,\"solidity\":0.2},\"type\":\"scatter\"}],\"parcoords\":[{\"type\":\"parcoords\",\"line\":{\"colorbar\":{\"outlinewidth\":0,\"ticks\":\"\"}}}],\"scatterpolargl\":[{\"type\":\"scatterpolargl\",\"marker\":{\"colorbar\":{\"outlinewidth\":0,\"ticks\":\"\"}}}],\"bar\":[{\"error_x\":{\"color\":\"#2a3f5f\"},\"error_y\":{\"color\":\"#2a3f5f\"},\"marker\":{\"line\":{\"color\":\"#E5ECF6\",\"width\":0.5},\"pattern\":{\"fillmode\":\"overlay\",\"size\":10,\"solidity\":0.2}},\"type\":\"bar\"}],\"scattergeo\":[{\"type\":\"scattergeo\",\"marker\":{\"colorbar\":{\"outlinewidth\":0,\"ticks\":\"\"}}}],\"scatterpolar\":[{\"type\":\"scatterpolar\",\"marker\":{\"colorbar\":{\"outlinewidth\":0,\"ticks\":\"\"}}}],\"histogram\":[{\"marker\":{\"pattern\":{\"fillmode\":\"overlay\",\"size\":10,\"solidity\":0.2}},\"type\":\"histogram\"}],\"scattergl\":[{\"type\":\"scattergl\",\"marker\":{\"colorbar\":{\"outlinewidth\":0,\"ticks\":\"\"}}}],\"scatter3d\":[{\"type\":\"scatter3d\",\"line\":{\"colorbar\":{\"outlinewidth\":0,\"ticks\":\"\"}},\"marker\":{\"colorbar\":{\"outlinewidth\":0,\"ticks\":\"\"}}}],\"scattermapbox\":[{\"type\":\"scattermapbox\",\"marker\":{\"colorbar\":{\"outlinewidth\":0,\"ticks\":\"\"}}}],\"scatterternary\":[{\"type\":\"scatterternary\",\"marker\":{\"colorbar\":{\"outlinewidth\":0,\"ticks\":\"\"}}}],\"scattercarpet\":[{\"type\":\"scattercarpet\",\"marker\":{\"colorbar\":{\"outlinewidth\":0,\"ticks\":\"\"}}}],\"carpet\":[{\"aaxis\":{\"endlinecolor\":\"#2a3f5f\",\"gridcolor\":\"white\",\"linecolor\":\"white\",\"minorgridcolor\":\"white\",\"startlinecolor\":\"#2a3f5f\"},\"baxis\":{\"endlinecolor\":\"#2a3f5f\",\"gridcolor\":\"white\",\"linecolor\":\"white\",\"minorgridcolor\":\"white\",\"startlinecolor\":\"#2a3f5f\"},\"type\":\"carpet\"}],\"table\":[{\"cells\":{\"fill\":{\"color\":\"#EBF0F8\"},\"line\":{\"color\":\"white\"}},\"header\":{\"fill\":{\"color\":\"#C8D4E3\"},\"line\":{\"color\":\"white\"}},\"type\":\"table\"}],\"barpolar\":[{\"marker\":{\"line\":{\"color\":\"#E5ECF6\",\"width\":0.5},\"pattern\":{\"fillmode\":\"overlay\",\"size\":10,\"solidity\":0.2}},\"type\":\"barpolar\"}],\"pie\":[{\"automargin\":true,\"type\":\"pie\"}]},\"layout\":{\"autotypenumbers\":\"strict\",\"colorway\":[\"#636efa\",\"#EF553B\",\"#00cc96\",\"#ab63fa\",\"#FFA15A\",\"#19d3f3\",\"#FF6692\",\"#B6E880\",\"#FF97FF\",\"#FECB52\"],\"font\":{\"color\":\"#2a3f5f\"},\"hovermode\":\"closest\",\"hoverlabel\":{\"align\":\"left\"},\"paper_bgcolor\":\"white\",\"plot_bgcolor\":\"#E5ECF6\",\"polar\":{\"bgcolor\":\"#E5ECF6\",\"angularaxis\":{\"gridcolor\":\"white\",\"linecolor\":\"white\",\"ticks\":\"\"},\"radialaxis\":{\"gridcolor\":\"white\",\"linecolor\":\"white\",\"ticks\":\"\"}},\"ternary\":{\"bgcolor\":\"#E5ECF6\",\"aaxis\":{\"gridcolor\":\"white\",\"linecolor\":\"white\",\"ticks\":\"\"},\"baxis\":{\"gridcolor\":\"white\",\"linecolor\":\"white\",\"ticks\":\"\"},\"caxis\":{\"gridcolor\":\"white\",\"linecolor\":\"white\",\"ticks\":\"\"}},\"coloraxis\":{\"colorbar\":{\"outlinewidth\":0,\"ticks\":\"\"}},\"colorscale\":{\"sequential\":[[0.0,\"#0d0887\"],[0.1111111111111111,\"#46039f\"],[0.2222222222222222,\"#7201a8\"],[0.3333333333333333,\"#9c179e\"],[0.4444444444444444,\"#bd3786\"],[0.5555555555555556,\"#d8576b\"],[0.6666666666666666,\"#ed7953\"],[0.7777777777777778,\"#fb9f3a\"],[0.8888888888888888,\"#fdca26\"],[1.0,\"#f0f921\"]],\"sequentialminus\":[[0.0,\"#0d0887\"],[0.1111111111111111,\"#46039f\"],[0.2222222222222222,\"#7201a8\"],[0.3333333333333333,\"#9c179e\"],[0.4444444444444444,\"#bd3786\"],[0.5555555555555556,\"#d8576b\"],[0.6666666666666666,\"#ed7953\"],[0.7777777777777778,\"#fb9f3a\"],[0.8888888888888888,\"#fdca26\"],[1.0,\"#f0f921\"]],\"diverging\":[[0,\"#8e0152\"],[0.1,\"#c51b7d\"],[0.2,\"#de77ae\"],[0.3,\"#f1b6da\"],[0.4,\"#fde0ef\"],[0.5,\"#f7f7f7\"],[0.6,\"#e6f5d0\"],[0.7,\"#b8e186\"],[0.8,\"#7fbc41\"],[0.9,\"#4d9221\"],[1,\"#276419\"]]},\"xaxis\":{\"gridcolor\":\"white\",\"linecolor\":\"white\",\"ticks\":\"\",\"title\":{\"standoff\":15},\"zerolinecolor\":\"white\",\"automargin\":true,\"zerolinewidth\":2},\"yaxis\":{\"gridcolor\":\"white\",\"linecolor\":\"white\",\"ticks\":\"\",\"title\":{\"standoff\":15},\"zerolinecolor\":\"white\",\"automargin\":true,\"zerolinewidth\":2},\"scene\":{\"xaxis\":{\"backgroundcolor\":\"#E5ECF6\",\"gridcolor\":\"white\",\"linecolor\":\"white\",\"showbackground\":true,\"ticks\":\"\",\"zerolinecolor\":\"white\",\"gridwidth\":2},\"yaxis\":{\"backgroundcolor\":\"#E5ECF6\",\"gridcolor\":\"white\",\"linecolor\":\"white\",\"showbackground\":true,\"ticks\":\"\",\"zerolinecolor\":\"white\",\"gridwidth\":2},\"zaxis\":{\"backgroundcolor\":\"#E5ECF6\",\"gridcolor\":\"white\",\"linecolor\":\"white\",\"showbackground\":true,\"ticks\":\"\",\"zerolinecolor\":\"white\",\"gridwidth\":2}},\"shapedefaults\":{\"line\":{\"color\":\"#2a3f5f\"}},\"annotationdefaults\":{\"arrowcolor\":\"#2a3f5f\",\"arrowhead\":0,\"arrowwidth\":1},\"geo\":{\"bgcolor\":\"white\",\"landcolor\":\"#E5ECF6\",\"subunitcolor\":\"white\",\"showland\":true,\"showlakes\":true,\"lakecolor\":\"white\"},\"title\":{\"x\":0.05},\"mapbox\":{\"style\":\"light\"}}},\"xaxis\":{\"anchor\":\"y\",\"domain\":[0.0,1.0],\"title\":{\"text\":\"index\"}},\"yaxis\":{\"anchor\":\"x\",\"domain\":[0.0,1.0],\"title\":{\"text\":\"value\"}},\"legend\":{\"title\":{\"text\":\"variable\"},\"tracegroupgap\":0},\"margin\":{\"t\":60},\"barmode\":\"relative\"},                        {\"responsive\": true}                    ).then(function(){\n",
       "                            \n",
       "var gd = document.getElementById('aa8c7b55-c50c-4275-8e4e-37c1557a4a2c');\n",
       "var x = new MutationObserver(function (mutations, observer) {{\n",
       "        var display = window.getComputedStyle(gd).display;\n",
       "        if (!display || display === 'none') {{\n",
       "            console.log([gd, 'removed!']);\n",
       "            Plotly.purge(gd);\n",
       "            observer.disconnect();\n",
       "        }}\n",
       "}});\n",
       "\n",
       "// Listen for the removal of the full notebook cells\n",
       "var notebookContainer = gd.closest('#notebook-container');\n",
       "if (notebookContainer) {{\n",
       "    x.observe(notebookContainer, {childList: true});\n",
       "}}\n",
       "\n",
       "// Listen for the clearing of the current output cell\n",
       "var outputEl = gd.closest('.output');\n",
       "if (outputEl) {{\n",
       "    x.observe(outputEl, {childList: true});\n",
       "}}\n",
       "\n",
       "                        })                };                });            </script>        </div>"
      ]
     },
     "metadata": {},
     "output_type": "display_data"
    }
   ],
   "source": [
    "available_brands=beauty_products.brand.value_counts()\n",
    "print(\"availabe brands at Sephora and amount\")\n",
    "px.bar(data_frame=available_brands)"
   ]
  },
  {
   "cell_type": "code",
   "execution_count": 16,
   "id": "e3c9856b",
   "metadata": {
    "execution": {
     "iopub.execute_input": "2022-12-07T22:25:48.338652Z",
     "iopub.status.busy": "2022-12-07T22:25:48.338224Z",
     "iopub.status.idle": "2022-12-07T22:25:48.394399Z",
     "shell.execute_reply": "2022-12-07T22:25:48.393164Z"
    },
    "papermill": {
     "duration": 0.069563,
     "end_time": "2022-12-07T22:25:48.396872",
     "exception": false,
     "start_time": "2022-12-07T22:25:48.327309",
     "status": "completed"
    },
    "tags": []
   },
   "outputs": [
    {
     "name": "stdout",
     "output_type": "stream",
     "text": [
      "Top 10 most loved Brands at Sephora\n"
     ]
    },
    {
     "data": {
      "text/html": [
       "<div>                            <div id=\"5d87243a-f947-45e4-9cf4-dfea3e7743a2\" class=\"plotly-graph-div\" style=\"height:525px; width:100%;\"></div>            <script type=\"text/javascript\">                require([\"plotly\"], function(Plotly) {                    window.PLOTLYENV=window.PLOTLYENV || {};                                    if (document.getElementById(\"5d87243a-f947-45e4-9cf4-dfea3e7743a2\")) {                    Plotly.newPlot(                        \"5d87243a-f947-45e4-9cf4-dfea3e7743a2\",                        [{\"domain\":{\"x\":[0.0,1.0],\"y\":[0.0,1.0]},\"hovertemplate\":\"brand=%{label}<br>love=%{value}<extra></extra>\",\"labels\":[\"stila\",\"Buxom\",\"Anastasia Beverly Hills\",\"NARS\",\"Olaplex\",\"FENTY BEAUTY by Rihanna\",\"HUDA BEAUTY\",\"Urban Decay\",\"Drunk Elephant\",\"KVD Vegan Beauty\"],\"legendgroup\":\"\",\"name\":\"\",\"showlegend\":true,\"values\":[140942.85714285713,123616.66666666667,85580.0,84117.54385964913,73700.0,66043.64705882352,63887.03703703704,63784.82894736842,61496.875,58134.16901408451],\"type\":\"pie\"}],                        {\"template\":{\"data\":{\"histogram2dcontour\":[{\"type\":\"histogram2dcontour\",\"colorbar\":{\"outlinewidth\":0,\"ticks\":\"\"},\"colorscale\":[[0.0,\"#0d0887\"],[0.1111111111111111,\"#46039f\"],[0.2222222222222222,\"#7201a8\"],[0.3333333333333333,\"#9c179e\"],[0.4444444444444444,\"#bd3786\"],[0.5555555555555556,\"#d8576b\"],[0.6666666666666666,\"#ed7953\"],[0.7777777777777778,\"#fb9f3a\"],[0.8888888888888888,\"#fdca26\"],[1.0,\"#f0f921\"]]}],\"choropleth\":[{\"type\":\"choropleth\",\"colorbar\":{\"outlinewidth\":0,\"ticks\":\"\"}}],\"histogram2d\":[{\"type\":\"histogram2d\",\"colorbar\":{\"outlinewidth\":0,\"ticks\":\"\"},\"colorscale\":[[0.0,\"#0d0887\"],[0.1111111111111111,\"#46039f\"],[0.2222222222222222,\"#7201a8\"],[0.3333333333333333,\"#9c179e\"],[0.4444444444444444,\"#bd3786\"],[0.5555555555555556,\"#d8576b\"],[0.6666666666666666,\"#ed7953\"],[0.7777777777777778,\"#fb9f3a\"],[0.8888888888888888,\"#fdca26\"],[1.0,\"#f0f921\"]]}],\"heatmap\":[{\"type\":\"heatmap\",\"colorbar\":{\"outlinewidth\":0,\"ticks\":\"\"},\"colorscale\":[[0.0,\"#0d0887\"],[0.1111111111111111,\"#46039f\"],[0.2222222222222222,\"#7201a8\"],[0.3333333333333333,\"#9c179e\"],[0.4444444444444444,\"#bd3786\"],[0.5555555555555556,\"#d8576b\"],[0.6666666666666666,\"#ed7953\"],[0.7777777777777778,\"#fb9f3a\"],[0.8888888888888888,\"#fdca26\"],[1.0,\"#f0f921\"]]}],\"heatmapgl\":[{\"type\":\"heatmapgl\",\"colorbar\":{\"outlinewidth\":0,\"ticks\":\"\"},\"colorscale\":[[0.0,\"#0d0887\"],[0.1111111111111111,\"#46039f\"],[0.2222222222222222,\"#7201a8\"],[0.3333333333333333,\"#9c179e\"],[0.4444444444444444,\"#bd3786\"],[0.5555555555555556,\"#d8576b\"],[0.6666666666666666,\"#ed7953\"],[0.7777777777777778,\"#fb9f3a\"],[0.8888888888888888,\"#fdca26\"],[1.0,\"#f0f921\"]]}],\"contourcarpet\":[{\"type\":\"contourcarpet\",\"colorbar\":{\"outlinewidth\":0,\"ticks\":\"\"}}],\"contour\":[{\"type\":\"contour\",\"colorbar\":{\"outlinewidth\":0,\"ticks\":\"\"},\"colorscale\":[[0.0,\"#0d0887\"],[0.1111111111111111,\"#46039f\"],[0.2222222222222222,\"#7201a8\"],[0.3333333333333333,\"#9c179e\"],[0.4444444444444444,\"#bd3786\"],[0.5555555555555556,\"#d8576b\"],[0.6666666666666666,\"#ed7953\"],[0.7777777777777778,\"#fb9f3a\"],[0.8888888888888888,\"#fdca26\"],[1.0,\"#f0f921\"]]}],\"surface\":[{\"type\":\"surface\",\"colorbar\":{\"outlinewidth\":0,\"ticks\":\"\"},\"colorscale\":[[0.0,\"#0d0887\"],[0.1111111111111111,\"#46039f\"],[0.2222222222222222,\"#7201a8\"],[0.3333333333333333,\"#9c179e\"],[0.4444444444444444,\"#bd3786\"],[0.5555555555555556,\"#d8576b\"],[0.6666666666666666,\"#ed7953\"],[0.7777777777777778,\"#fb9f3a\"],[0.8888888888888888,\"#fdca26\"],[1.0,\"#f0f921\"]]}],\"mesh3d\":[{\"type\":\"mesh3d\",\"colorbar\":{\"outlinewidth\":0,\"ticks\":\"\"}}],\"scatter\":[{\"fillpattern\":{\"fillmode\":\"overlay\",\"size\":10,\"solidity\":0.2},\"type\":\"scatter\"}],\"parcoords\":[{\"type\":\"parcoords\",\"line\":{\"colorbar\":{\"outlinewidth\":0,\"ticks\":\"\"}}}],\"scatterpolargl\":[{\"type\":\"scatterpolargl\",\"marker\":{\"colorbar\":{\"outlinewidth\":0,\"ticks\":\"\"}}}],\"bar\":[{\"error_x\":{\"color\":\"#2a3f5f\"},\"error_y\":{\"color\":\"#2a3f5f\"},\"marker\":{\"line\":{\"color\":\"#E5ECF6\",\"width\":0.5},\"pattern\":{\"fillmode\":\"overlay\",\"size\":10,\"solidity\":0.2}},\"type\":\"bar\"}],\"scattergeo\":[{\"type\":\"scattergeo\",\"marker\":{\"colorbar\":{\"outlinewidth\":0,\"ticks\":\"\"}}}],\"scatterpolar\":[{\"type\":\"scatterpolar\",\"marker\":{\"colorbar\":{\"outlinewidth\":0,\"ticks\":\"\"}}}],\"histogram\":[{\"marker\":{\"pattern\":{\"fillmode\":\"overlay\",\"size\":10,\"solidity\":0.2}},\"type\":\"histogram\"}],\"scattergl\":[{\"type\":\"scattergl\",\"marker\":{\"colorbar\":{\"outlinewidth\":0,\"ticks\":\"\"}}}],\"scatter3d\":[{\"type\":\"scatter3d\",\"line\":{\"colorbar\":{\"outlinewidth\":0,\"ticks\":\"\"}},\"marker\":{\"colorbar\":{\"outlinewidth\":0,\"ticks\":\"\"}}}],\"scattermapbox\":[{\"type\":\"scattermapbox\",\"marker\":{\"colorbar\":{\"outlinewidth\":0,\"ticks\":\"\"}}}],\"scatterternary\":[{\"type\":\"scatterternary\",\"marker\":{\"colorbar\":{\"outlinewidth\":0,\"ticks\":\"\"}}}],\"scattercarpet\":[{\"type\":\"scattercarpet\",\"marker\":{\"colorbar\":{\"outlinewidth\":0,\"ticks\":\"\"}}}],\"carpet\":[{\"aaxis\":{\"endlinecolor\":\"#2a3f5f\",\"gridcolor\":\"white\",\"linecolor\":\"white\",\"minorgridcolor\":\"white\",\"startlinecolor\":\"#2a3f5f\"},\"baxis\":{\"endlinecolor\":\"#2a3f5f\",\"gridcolor\":\"white\",\"linecolor\":\"white\",\"minorgridcolor\":\"white\",\"startlinecolor\":\"#2a3f5f\"},\"type\":\"carpet\"}],\"table\":[{\"cells\":{\"fill\":{\"color\":\"#EBF0F8\"},\"line\":{\"color\":\"white\"}},\"header\":{\"fill\":{\"color\":\"#C8D4E3\"},\"line\":{\"color\":\"white\"}},\"type\":\"table\"}],\"barpolar\":[{\"marker\":{\"line\":{\"color\":\"#E5ECF6\",\"width\":0.5},\"pattern\":{\"fillmode\":\"overlay\",\"size\":10,\"solidity\":0.2}},\"type\":\"barpolar\"}],\"pie\":[{\"automargin\":true,\"type\":\"pie\"}]},\"layout\":{\"autotypenumbers\":\"strict\",\"colorway\":[\"#636efa\",\"#EF553B\",\"#00cc96\",\"#ab63fa\",\"#FFA15A\",\"#19d3f3\",\"#FF6692\",\"#B6E880\",\"#FF97FF\",\"#FECB52\"],\"font\":{\"color\":\"#2a3f5f\"},\"hovermode\":\"closest\",\"hoverlabel\":{\"align\":\"left\"},\"paper_bgcolor\":\"white\",\"plot_bgcolor\":\"#E5ECF6\",\"polar\":{\"bgcolor\":\"#E5ECF6\",\"angularaxis\":{\"gridcolor\":\"white\",\"linecolor\":\"white\",\"ticks\":\"\"},\"radialaxis\":{\"gridcolor\":\"white\",\"linecolor\":\"white\",\"ticks\":\"\"}},\"ternary\":{\"bgcolor\":\"#E5ECF6\",\"aaxis\":{\"gridcolor\":\"white\",\"linecolor\":\"white\",\"ticks\":\"\"},\"baxis\":{\"gridcolor\":\"white\",\"linecolor\":\"white\",\"ticks\":\"\"},\"caxis\":{\"gridcolor\":\"white\",\"linecolor\":\"white\",\"ticks\":\"\"}},\"coloraxis\":{\"colorbar\":{\"outlinewidth\":0,\"ticks\":\"\"}},\"colorscale\":{\"sequential\":[[0.0,\"#0d0887\"],[0.1111111111111111,\"#46039f\"],[0.2222222222222222,\"#7201a8\"],[0.3333333333333333,\"#9c179e\"],[0.4444444444444444,\"#bd3786\"],[0.5555555555555556,\"#d8576b\"],[0.6666666666666666,\"#ed7953\"],[0.7777777777777778,\"#fb9f3a\"],[0.8888888888888888,\"#fdca26\"],[1.0,\"#f0f921\"]],\"sequentialminus\":[[0.0,\"#0d0887\"],[0.1111111111111111,\"#46039f\"],[0.2222222222222222,\"#7201a8\"],[0.3333333333333333,\"#9c179e\"],[0.4444444444444444,\"#bd3786\"],[0.5555555555555556,\"#d8576b\"],[0.6666666666666666,\"#ed7953\"],[0.7777777777777778,\"#fb9f3a\"],[0.8888888888888888,\"#fdca26\"],[1.0,\"#f0f921\"]],\"diverging\":[[0,\"#8e0152\"],[0.1,\"#c51b7d\"],[0.2,\"#de77ae\"],[0.3,\"#f1b6da\"],[0.4,\"#fde0ef\"],[0.5,\"#f7f7f7\"],[0.6,\"#e6f5d0\"],[0.7,\"#b8e186\"],[0.8,\"#7fbc41\"],[0.9,\"#4d9221\"],[1,\"#276419\"]]},\"xaxis\":{\"gridcolor\":\"white\",\"linecolor\":\"white\",\"ticks\":\"\",\"title\":{\"standoff\":15},\"zerolinecolor\":\"white\",\"automargin\":true,\"zerolinewidth\":2},\"yaxis\":{\"gridcolor\":\"white\",\"linecolor\":\"white\",\"ticks\":\"\",\"title\":{\"standoff\":15},\"zerolinecolor\":\"white\",\"automargin\":true,\"zerolinewidth\":2},\"scene\":{\"xaxis\":{\"backgroundcolor\":\"#E5ECF6\",\"gridcolor\":\"white\",\"linecolor\":\"white\",\"showbackground\":true,\"ticks\":\"\",\"zerolinecolor\":\"white\",\"gridwidth\":2},\"yaxis\":{\"backgroundcolor\":\"#E5ECF6\",\"gridcolor\":\"white\",\"linecolor\":\"white\",\"showbackground\":true,\"ticks\":\"\",\"zerolinecolor\":\"white\",\"gridwidth\":2},\"zaxis\":{\"backgroundcolor\":\"#E5ECF6\",\"gridcolor\":\"white\",\"linecolor\":\"white\",\"showbackground\":true,\"ticks\":\"\",\"zerolinecolor\":\"white\",\"gridwidth\":2}},\"shapedefaults\":{\"line\":{\"color\":\"#2a3f5f\"}},\"annotationdefaults\":{\"arrowcolor\":\"#2a3f5f\",\"arrowhead\":0,\"arrowwidth\":1},\"geo\":{\"bgcolor\":\"white\",\"landcolor\":\"#E5ECF6\",\"subunitcolor\":\"white\",\"showland\":true,\"showlakes\":true,\"lakecolor\":\"white\"},\"title\":{\"x\":0.05},\"mapbox\":{\"style\":\"light\"}}},\"legend\":{\"tracegroupgap\":0},\"margin\":{\"t\":60}},                        {\"responsive\": true}                    ).then(function(){\n",
       "                            \n",
       "var gd = document.getElementById('5d87243a-f947-45e4-9cf4-dfea3e7743a2');\n",
       "var x = new MutationObserver(function (mutations, observer) {{\n",
       "        var display = window.getComputedStyle(gd).display;\n",
       "        if (!display || display === 'none') {{\n",
       "            console.log([gd, 'removed!']);\n",
       "            Plotly.purge(gd);\n",
       "            observer.disconnect();\n",
       "        }}\n",
       "}});\n",
       "\n",
       "// Listen for the removal of the full notebook cells\n",
       "var notebookContainer = gd.closest('#notebook-container');\n",
       "if (notebookContainer) {{\n",
       "    x.observe(notebookContainer, {childList: true});\n",
       "}}\n",
       "\n",
       "// Listen for the clearing of the current output cell\n",
       "var outputEl = gd.closest('.output');\n",
       "if (outputEl) {{\n",
       "    x.observe(outputEl, {childList: true});\n",
       "}}\n",
       "\n",
       "                        })                };                });            </script>        </div>"
      ]
     },
     "metadata": {},
     "output_type": "display_data"
    }
   ],
   "source": [
    "df=pd.DataFrame(beauty_products.groupby('brand')['love'].mean()).reset_index().sort_values(by='love', ascending=False).reset_index().drop('index',axis=1)\n",
    "df.head(10)\n",
    "sliced_df=df.iloc[0:10]\n",
    "print(\"Top 10 most loved Brands at Sephora\")\n",
    "px.pie(sliced_df,names=sliced_df.brand,values=sliced_df.love)\n"
   ]
  },
  {
   "cell_type": "code",
   "execution_count": 17,
   "id": "35e66e0f",
   "metadata": {
    "execution": {
     "iopub.execute_input": "2022-12-07T22:25:48.418259Z",
     "iopub.status.busy": "2022-12-07T22:25:48.417823Z",
     "iopub.status.idle": "2022-12-07T22:25:48.472626Z",
     "shell.execute_reply": "2022-12-07T22:25:48.471422Z"
    },
    "papermill": {
     "duration": 0.068406,
     "end_time": "2022-12-07T22:25:48.475134",
     "exception": false,
     "start_time": "2022-12-07T22:25:48.406728",
     "status": "completed"
    },
    "tags": []
   },
   "outputs": [
    {
     "name": "stdout",
     "output_type": "stream",
     "text": [
      "Top 10 most loved Brands at Sephora\n"
     ]
    },
    {
     "data": {
      "text/html": [
       "<div>                            <div id=\"9cbaf1cb-0760-4dc0-8d96-c3aec25dec75\" class=\"plotly-graph-div\" style=\"height:525px; width:100%;\"></div>            <script type=\"text/javascript\">                require([\"plotly\"], function(Plotly) {                    window.PLOTLYENV=window.PLOTLYENV || {};                                    if (document.getElementById(\"9cbaf1cb-0760-4dc0-8d96-c3aec25dec75\")) {                    Plotly.newPlot(                        \"9cbaf1cb-0760-4dc0-8d96-c3aec25dec75\",                        [{\"domain\":{\"x\":[0.0,1.0],\"y\":[0.0,1.0]},\"hovertemplate\":\"brand=%{label}<br>love=%{value}<extra></extra>\",\"labels\":[\"stila\",\"Buxom\",\"Anastasia Beverly Hills\",\"NARS\",\"Olaplex\",\"FENTY BEAUTY by Rihanna\",\"HUDA BEAUTY\",\"Urban Decay\",\"Drunk Elephant\",\"KVD Vegan Beauty\"],\"legendgroup\":\"\",\"name\":\"\",\"showlegend\":true,\"values\":[140942.85714285713,123616.66666666667,85580.0,84117.54385964913,73700.0,66043.64705882352,63887.03703703704,63784.82894736842,61496.875,58134.16901408451],\"type\":\"pie\"}],                        {\"template\":{\"data\":{\"histogram2dcontour\":[{\"type\":\"histogram2dcontour\",\"colorbar\":{\"outlinewidth\":0,\"ticks\":\"\"},\"colorscale\":[[0.0,\"#0d0887\"],[0.1111111111111111,\"#46039f\"],[0.2222222222222222,\"#7201a8\"],[0.3333333333333333,\"#9c179e\"],[0.4444444444444444,\"#bd3786\"],[0.5555555555555556,\"#d8576b\"],[0.6666666666666666,\"#ed7953\"],[0.7777777777777778,\"#fb9f3a\"],[0.8888888888888888,\"#fdca26\"],[1.0,\"#f0f921\"]]}],\"choropleth\":[{\"type\":\"choropleth\",\"colorbar\":{\"outlinewidth\":0,\"ticks\":\"\"}}],\"histogram2d\":[{\"type\":\"histogram2d\",\"colorbar\":{\"outlinewidth\":0,\"ticks\":\"\"},\"colorscale\":[[0.0,\"#0d0887\"],[0.1111111111111111,\"#46039f\"],[0.2222222222222222,\"#7201a8\"],[0.3333333333333333,\"#9c179e\"],[0.4444444444444444,\"#bd3786\"],[0.5555555555555556,\"#d8576b\"],[0.6666666666666666,\"#ed7953\"],[0.7777777777777778,\"#fb9f3a\"],[0.8888888888888888,\"#fdca26\"],[1.0,\"#f0f921\"]]}],\"heatmap\":[{\"type\":\"heatmap\",\"colorbar\":{\"outlinewidth\":0,\"ticks\":\"\"},\"colorscale\":[[0.0,\"#0d0887\"],[0.1111111111111111,\"#46039f\"],[0.2222222222222222,\"#7201a8\"],[0.3333333333333333,\"#9c179e\"],[0.4444444444444444,\"#bd3786\"],[0.5555555555555556,\"#d8576b\"],[0.6666666666666666,\"#ed7953\"],[0.7777777777777778,\"#fb9f3a\"],[0.8888888888888888,\"#fdca26\"],[1.0,\"#f0f921\"]]}],\"heatmapgl\":[{\"type\":\"heatmapgl\",\"colorbar\":{\"outlinewidth\":0,\"ticks\":\"\"},\"colorscale\":[[0.0,\"#0d0887\"],[0.1111111111111111,\"#46039f\"],[0.2222222222222222,\"#7201a8\"],[0.3333333333333333,\"#9c179e\"],[0.4444444444444444,\"#bd3786\"],[0.5555555555555556,\"#d8576b\"],[0.6666666666666666,\"#ed7953\"],[0.7777777777777778,\"#fb9f3a\"],[0.8888888888888888,\"#fdca26\"],[1.0,\"#f0f921\"]]}],\"contourcarpet\":[{\"type\":\"contourcarpet\",\"colorbar\":{\"outlinewidth\":0,\"ticks\":\"\"}}],\"contour\":[{\"type\":\"contour\",\"colorbar\":{\"outlinewidth\":0,\"ticks\":\"\"},\"colorscale\":[[0.0,\"#0d0887\"],[0.1111111111111111,\"#46039f\"],[0.2222222222222222,\"#7201a8\"],[0.3333333333333333,\"#9c179e\"],[0.4444444444444444,\"#bd3786\"],[0.5555555555555556,\"#d8576b\"],[0.6666666666666666,\"#ed7953\"],[0.7777777777777778,\"#fb9f3a\"],[0.8888888888888888,\"#fdca26\"],[1.0,\"#f0f921\"]]}],\"surface\":[{\"type\":\"surface\",\"colorbar\":{\"outlinewidth\":0,\"ticks\":\"\"},\"colorscale\":[[0.0,\"#0d0887\"],[0.1111111111111111,\"#46039f\"],[0.2222222222222222,\"#7201a8\"],[0.3333333333333333,\"#9c179e\"],[0.4444444444444444,\"#bd3786\"],[0.5555555555555556,\"#d8576b\"],[0.6666666666666666,\"#ed7953\"],[0.7777777777777778,\"#fb9f3a\"],[0.8888888888888888,\"#fdca26\"],[1.0,\"#f0f921\"]]}],\"mesh3d\":[{\"type\":\"mesh3d\",\"colorbar\":{\"outlinewidth\":0,\"ticks\":\"\"}}],\"scatter\":[{\"fillpattern\":{\"fillmode\":\"overlay\",\"size\":10,\"solidity\":0.2},\"type\":\"scatter\"}],\"parcoords\":[{\"type\":\"parcoords\",\"line\":{\"colorbar\":{\"outlinewidth\":0,\"ticks\":\"\"}}}],\"scatterpolargl\":[{\"type\":\"scatterpolargl\",\"marker\":{\"colorbar\":{\"outlinewidth\":0,\"ticks\":\"\"}}}],\"bar\":[{\"error_x\":{\"color\":\"#2a3f5f\"},\"error_y\":{\"color\":\"#2a3f5f\"},\"marker\":{\"line\":{\"color\":\"#E5ECF6\",\"width\":0.5},\"pattern\":{\"fillmode\":\"overlay\",\"size\":10,\"solidity\":0.2}},\"type\":\"bar\"}],\"scattergeo\":[{\"type\":\"scattergeo\",\"marker\":{\"colorbar\":{\"outlinewidth\":0,\"ticks\":\"\"}}}],\"scatterpolar\":[{\"type\":\"scatterpolar\",\"marker\":{\"colorbar\":{\"outlinewidth\":0,\"ticks\":\"\"}}}],\"histogram\":[{\"marker\":{\"pattern\":{\"fillmode\":\"overlay\",\"size\":10,\"solidity\":0.2}},\"type\":\"histogram\"}],\"scattergl\":[{\"type\":\"scattergl\",\"marker\":{\"colorbar\":{\"outlinewidth\":0,\"ticks\":\"\"}}}],\"scatter3d\":[{\"type\":\"scatter3d\",\"line\":{\"colorbar\":{\"outlinewidth\":0,\"ticks\":\"\"}},\"marker\":{\"colorbar\":{\"outlinewidth\":0,\"ticks\":\"\"}}}],\"scattermapbox\":[{\"type\":\"scattermapbox\",\"marker\":{\"colorbar\":{\"outlinewidth\":0,\"ticks\":\"\"}}}],\"scatterternary\":[{\"type\":\"scatterternary\",\"marker\":{\"colorbar\":{\"outlinewidth\":0,\"ticks\":\"\"}}}],\"scattercarpet\":[{\"type\":\"scattercarpet\",\"marker\":{\"colorbar\":{\"outlinewidth\":0,\"ticks\":\"\"}}}],\"carpet\":[{\"aaxis\":{\"endlinecolor\":\"#2a3f5f\",\"gridcolor\":\"white\",\"linecolor\":\"white\",\"minorgridcolor\":\"white\",\"startlinecolor\":\"#2a3f5f\"},\"baxis\":{\"endlinecolor\":\"#2a3f5f\",\"gridcolor\":\"white\",\"linecolor\":\"white\",\"minorgridcolor\":\"white\",\"startlinecolor\":\"#2a3f5f\"},\"type\":\"carpet\"}],\"table\":[{\"cells\":{\"fill\":{\"color\":\"#EBF0F8\"},\"line\":{\"color\":\"white\"}},\"header\":{\"fill\":{\"color\":\"#C8D4E3\"},\"line\":{\"color\":\"white\"}},\"type\":\"table\"}],\"barpolar\":[{\"marker\":{\"line\":{\"color\":\"#E5ECF6\",\"width\":0.5},\"pattern\":{\"fillmode\":\"overlay\",\"size\":10,\"solidity\":0.2}},\"type\":\"barpolar\"}],\"pie\":[{\"automargin\":true,\"type\":\"pie\"}]},\"layout\":{\"autotypenumbers\":\"strict\",\"colorway\":[\"#636efa\",\"#EF553B\",\"#00cc96\",\"#ab63fa\",\"#FFA15A\",\"#19d3f3\",\"#FF6692\",\"#B6E880\",\"#FF97FF\",\"#FECB52\"],\"font\":{\"color\":\"#2a3f5f\"},\"hovermode\":\"closest\",\"hoverlabel\":{\"align\":\"left\"},\"paper_bgcolor\":\"white\",\"plot_bgcolor\":\"#E5ECF6\",\"polar\":{\"bgcolor\":\"#E5ECF6\",\"angularaxis\":{\"gridcolor\":\"white\",\"linecolor\":\"white\",\"ticks\":\"\"},\"radialaxis\":{\"gridcolor\":\"white\",\"linecolor\":\"white\",\"ticks\":\"\"}},\"ternary\":{\"bgcolor\":\"#E5ECF6\",\"aaxis\":{\"gridcolor\":\"white\",\"linecolor\":\"white\",\"ticks\":\"\"},\"baxis\":{\"gridcolor\":\"white\",\"linecolor\":\"white\",\"ticks\":\"\"},\"caxis\":{\"gridcolor\":\"white\",\"linecolor\":\"white\",\"ticks\":\"\"}},\"coloraxis\":{\"colorbar\":{\"outlinewidth\":0,\"ticks\":\"\"}},\"colorscale\":{\"sequential\":[[0.0,\"#0d0887\"],[0.1111111111111111,\"#46039f\"],[0.2222222222222222,\"#7201a8\"],[0.3333333333333333,\"#9c179e\"],[0.4444444444444444,\"#bd3786\"],[0.5555555555555556,\"#d8576b\"],[0.6666666666666666,\"#ed7953\"],[0.7777777777777778,\"#fb9f3a\"],[0.8888888888888888,\"#fdca26\"],[1.0,\"#f0f921\"]],\"sequentialminus\":[[0.0,\"#0d0887\"],[0.1111111111111111,\"#46039f\"],[0.2222222222222222,\"#7201a8\"],[0.3333333333333333,\"#9c179e\"],[0.4444444444444444,\"#bd3786\"],[0.5555555555555556,\"#d8576b\"],[0.6666666666666666,\"#ed7953\"],[0.7777777777777778,\"#fb9f3a\"],[0.8888888888888888,\"#fdca26\"],[1.0,\"#f0f921\"]],\"diverging\":[[0,\"#8e0152\"],[0.1,\"#c51b7d\"],[0.2,\"#de77ae\"],[0.3,\"#f1b6da\"],[0.4,\"#fde0ef\"],[0.5,\"#f7f7f7\"],[0.6,\"#e6f5d0\"],[0.7,\"#b8e186\"],[0.8,\"#7fbc41\"],[0.9,\"#4d9221\"],[1,\"#276419\"]]},\"xaxis\":{\"gridcolor\":\"white\",\"linecolor\":\"white\",\"ticks\":\"\",\"title\":{\"standoff\":15},\"zerolinecolor\":\"white\",\"automargin\":true,\"zerolinewidth\":2},\"yaxis\":{\"gridcolor\":\"white\",\"linecolor\":\"white\",\"ticks\":\"\",\"title\":{\"standoff\":15},\"zerolinecolor\":\"white\",\"automargin\":true,\"zerolinewidth\":2},\"scene\":{\"xaxis\":{\"backgroundcolor\":\"#E5ECF6\",\"gridcolor\":\"white\",\"linecolor\":\"white\",\"showbackground\":true,\"ticks\":\"\",\"zerolinecolor\":\"white\",\"gridwidth\":2},\"yaxis\":{\"backgroundcolor\":\"#E5ECF6\",\"gridcolor\":\"white\",\"linecolor\":\"white\",\"showbackground\":true,\"ticks\":\"\",\"zerolinecolor\":\"white\",\"gridwidth\":2},\"zaxis\":{\"backgroundcolor\":\"#E5ECF6\",\"gridcolor\":\"white\",\"linecolor\":\"white\",\"showbackground\":true,\"ticks\":\"\",\"zerolinecolor\":\"white\",\"gridwidth\":2}},\"shapedefaults\":{\"line\":{\"color\":\"#2a3f5f\"}},\"annotationdefaults\":{\"arrowcolor\":\"#2a3f5f\",\"arrowhead\":0,\"arrowwidth\":1},\"geo\":{\"bgcolor\":\"white\",\"landcolor\":\"#E5ECF6\",\"subunitcolor\":\"white\",\"showland\":true,\"showlakes\":true,\"lakecolor\":\"white\"},\"title\":{\"x\":0.05},\"mapbox\":{\"style\":\"light\"}}},\"legend\":{\"tracegroupgap\":0},\"margin\":{\"t\":60}},                        {\"responsive\": true}                    ).then(function(){\n",
       "                            \n",
       "var gd = document.getElementById('9cbaf1cb-0760-4dc0-8d96-c3aec25dec75');\n",
       "var x = new MutationObserver(function (mutations, observer) {{\n",
       "        var display = window.getComputedStyle(gd).display;\n",
       "        if (!display || display === 'none') {{\n",
       "            console.log([gd, 'removed!']);\n",
       "            Plotly.purge(gd);\n",
       "            observer.disconnect();\n",
       "        }}\n",
       "}});\n",
       "\n",
       "// Listen for the removal of the full notebook cells\n",
       "var notebookContainer = gd.closest('#notebook-container');\n",
       "if (notebookContainer) {{\n",
       "    x.observe(notebookContainer, {childList: true});\n",
       "}}\n",
       "\n",
       "// Listen for the clearing of the current output cell\n",
       "var outputEl = gd.closest('.output');\n",
       "if (outputEl) {{\n",
       "    x.observe(outputEl, {childList: true});\n",
       "}}\n",
       "\n",
       "                        })                };                });            </script>        </div>"
      ]
     },
     "metadata": {},
     "output_type": "display_data"
    }
   ],
   "source": [
    "sliced_df=df.iloc[0:10]\n",
    "print(\"Top 10 most loved Brands at Sephora\")\n",
    "px.pie(sliced_df,names=sliced_df.brand,values=sliced_df.love)"
   ]
  },
  {
   "cell_type": "code",
   "execution_count": null,
   "id": "a5fe584e",
   "metadata": {
    "papermill": {
     "duration": 0.009553,
     "end_time": "2022-12-07T22:25:48.494554",
     "exception": false,
     "start_time": "2022-12-07T22:25:48.485001",
     "status": "completed"
    },
    "tags": []
   },
   "outputs": [],
   "source": []
  },
  {
   "cell_type": "code",
   "execution_count": null,
   "id": "40f94070",
   "metadata": {
    "papermill": {
     "duration": 0.00949,
     "end_time": "2022-12-07T22:25:48.514494",
     "exception": false,
     "start_time": "2022-12-07T22:25:48.505004",
     "status": "completed"
    },
    "tags": []
   },
   "outputs": [],
   "source": []
  },
  {
   "cell_type": "markdown",
   "id": "449c2bb6",
   "metadata": {
    "papermill": {
     "duration": 0.009533,
     "end_time": "2022-12-07T22:25:48.533841",
     "exception": false,
     "start_time": "2022-12-07T22:25:48.524308",
     "status": "completed"
    },
    "tags": []
   },
   "source": [
    "Indgredients"
   ]
  },
  {
   "cell_type": "code",
   "execution_count": 18,
   "id": "da37f5e0",
   "metadata": {
    "execution": {
     "iopub.execute_input": "2022-12-07T22:25:48.555316Z",
     "iopub.status.busy": "2022-12-07T22:25:48.554823Z",
     "iopub.status.idle": "2022-12-07T22:25:48.562163Z",
     "shell.execute_reply": "2022-12-07T22:25:48.561420Z"
    },
    "papermill": {
     "duration": 0.021174,
     "end_time": "2022-12-07T22:25:48.564770",
     "exception": false,
     "start_time": "2022-12-07T22:25:48.543596",
     "status": "completed"
    },
    "tags": []
   },
   "outputs": [
    {
     "data": {
      "text/plain": [
       "0    This enchanting set comes in a specially handc...\n",
       "1    An elegant timeless scent filled with a fresh-...\n",
       "Name: details, dtype: object"
      ]
     },
     "execution_count": 18,
     "metadata": {},
     "output_type": "execute_result"
    }
   ],
   "source": [
    "beauty_products['details'][:2]"
   ]
  },
  {
   "cell_type": "code",
   "execution_count": 19,
   "id": "0b00ac23",
   "metadata": {
    "execution": {
     "iopub.execute_input": "2022-12-07T22:25:48.586380Z",
     "iopub.status.busy": "2022-12-07T22:25:48.585901Z",
     "iopub.status.idle": "2022-12-07T22:25:48.594128Z",
     "shell.execute_reply": "2022-12-07T22:25:48.592841Z"
    },
    "papermill": {
     "duration": 0.02161,
     "end_time": "2022-12-07T22:25:48.596367",
     "exception": false,
     "start_time": "2022-12-07T22:25:48.574757",
     "status": "completed"
    },
    "tags": []
   },
   "outputs": [],
   "source": [
    "df_skin = beauty_products[beauty_products['category'].isin(makeup_products)].reset_index()"
   ]
  },
  {
   "cell_type": "code",
   "execution_count": null,
   "id": "7e03f02c",
   "metadata": {
    "papermill": {
     "duration": 0.009423,
     "end_time": "2022-12-07T22:25:48.615597",
     "exception": false,
     "start_time": "2022-12-07T22:25:48.606174",
     "status": "completed"
    },
    "tags": []
   },
   "outputs": [],
   "source": []
  },
  {
   "cell_type": "code",
   "execution_count": null,
   "id": "048b76c1",
   "metadata": {
    "papermill": {
     "duration": 0.009473,
     "end_time": "2022-12-07T22:25:48.635173",
     "exception": false,
     "start_time": "2022-12-07T22:25:48.625700",
     "status": "completed"
    },
    "tags": []
   },
   "outputs": [],
   "source": []
  },
  {
   "cell_type": "code",
   "execution_count": null,
   "id": "4037a357",
   "metadata": {
    "papermill": {
     "duration": 0.009352,
     "end_time": "2022-12-07T22:25:48.654224",
     "exception": false,
     "start_time": "2022-12-07T22:25:48.644872",
     "status": "completed"
    },
    "tags": []
   },
   "outputs": [],
   "source": []
  },
  {
   "cell_type": "code",
   "execution_count": null,
   "id": "4360420b",
   "metadata": {
    "papermill": {
     "duration": 0.009597,
     "end_time": "2022-12-07T22:25:48.673469",
     "exception": false,
     "start_time": "2022-12-07T22:25:48.663872",
     "status": "completed"
    },
    "tags": []
   },
   "outputs": [],
   "source": []
  }
 ],
 "metadata": {
  "kernelspec": {
   "display_name": "Python 3",
   "language": "python",
   "name": "python3"
  },
  "language_info": {
   "codemirror_mode": {
    "name": "ipython",
    "version": 3
   },
   "file_extension": ".py",
   "mimetype": "text/x-python",
   "name": "python",
   "nbconvert_exporter": "python",
   "pygments_lexer": "ipython3",
   "version": "3.7.12"
  },
  "papermill": {
   "default_parameters": {},
   "duration": 16.786077,
   "end_time": "2022-12-07T22:25:49.605680",
   "environment_variables": {},
   "exception": null,
   "input_path": "__notebook__.ipynb",
   "output_path": "__notebook__.ipynb",
   "parameters": {},
   "start_time": "2022-12-07T22:25:32.819603",
   "version": "2.3.4"
  }
 },
 "nbformat": 4,
 "nbformat_minor": 5
}
